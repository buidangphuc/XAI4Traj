{
 "cells": [
  {
   "cell_type": "markdown",
   "metadata": {},
   "source": [
    "# Traj-XAI Basic Example\n",
    "\n",
    "This notebook demonstrates the basic usage of the Traj-XAI package for explaining trajectory classifications.\n"
   ]
  },
  {
   "cell_type": "markdown",
   "metadata": {},
   "source": [
    "## Setup\n",
    "\n",
    "First, let's import the necessary libraries:\n"
   ]
  },
  {
   "cell_type": "code",
   "execution_count": null,
   "metadata": {},
   "outputs": [],
   "source": [
    "# Install required packages if needed\n",
    "# !pip install rdp fastdtw pactus"
   ]
  },
  {
   "cell_type": "code",
   "execution_count": null,
   "metadata": {},
   "outputs": [],
   "source": [
    "import numpy as np\n",
    "from pactus import Dataset\n",
    "from pactus.models import LSTMModel\n",
    "import matplotlib.pyplot as plt\n",
    "\n",
    "# Import from our traj-xai package\n",
    "from traj_xai import rdp_segmentation, gaussian_perturbation, TrajectoryManipulator"
   ]
  },
  {
   "cell_type": "markdown",
   "metadata": {},
   "source": [
    "## Load and Prepare Data\n"
   ]
  },
  {
   "cell_type": "code",
   "execution_count": null,
   "metadata": {},
   "outputs": [],
   "source": [
    "# Set a random seed for reproducibility\n",
    "SEED = 0\n",
    "\n",
    "# Load the UCI Movement Libras dataset\n",
    "dataset = Dataset.uci_movement_libras()\n",
    "print(f\"Dataset loaded: {len(dataset.trajs)} trajectories\")\n",
    "\n",
    "# Split data into train and test subsets\n",
    "train, test = dataset.split(0.8, random_state=SEED)\n",
    "print(f\"Train set: {len(train.trajs)} trajectories\")\n",
    "print(f\"Test set: {len(test.trajs)} trajectories\")"
   ]
  },
  {
   "cell_type": "markdown",
   "metadata": {},
   "source": [
    "## Train a Black Box Model\n"
   ]
  },
  {
   "cell_type": "code",
   "execution_count": null,
   "metadata": {},
   "outputs": [],
   "source": [
    "# Build and train the model\n",
    "model = LSTMModel(random_state=SEED)\n",
    "\n",
    "# Train the model on the train dataset (with fewer epochs for demo)\n",
    "model.train(train, dataset, epochs=5, batch_size=64)\n",
    "\n",
    "# Evaluate the model on the test dataset\n",
    "evaluation = model.evaluate(test)\n",
    "evaluation.show()"
   ]
  },
  {
   "cell_type": "markdown",
   "metadata": {},
   "source": [
    "## Visualize a Sample Trajectory\n"
   ]
  },
  {
   "cell_type": "code",
   "execution_count": null,
   "metadata": {},
   "outputs": [],
   "source": [
    "# Get a sample trajectory\n",
    "sample_idx = 0\n",
    "sample_traj = test.trajs[sample_idx]\n",
    "sample_label = test.labels[sample_idx]\n",
    "\n",
    "# Extract coordinates for plotting\n",
    "points = sample_traj.r\n",
    "x = [p[0] for p in points]\n",
    "y = [p[1] for p in points]\n",
    "\n",
    "# Plot the trajectory\n",
    "plt.figure(figsize=(10, 8))\n",
    "plt.plot(x, y, \"b-\", label=\"Trajectory\")\n",
    "plt.scatter(x[0], y[0], c=\"green\", s=100, label=\"Start\")\n",
    "plt.scatter(x[-1], y[-1], c=\"red\", s=100, label=\"End\")\n",
    "plt.title(f\"Trajectory (Label: {sample_label})\")\n",
    "plt.xlabel(\"X\")\n",
    "plt.ylabel(\"Y\")\n",
    "plt.legend()\n",
    "plt.grid(True)\n",
    "plt.show()"
   ]
  },
  {
   "cell_type": "markdown",
   "metadata": {},
   "source": [
    "## Segment the Trajectory\n"
   ]
  },
  {
   "cell_type": "code",
   "execution_count": null,
   "metadata": {},
   "outputs": [],
   "source": [
    "# Apply RDP segmentation\n",
    "segments = rdp_segmentation(points, epsilon=0.01)\n",
    "print(f\"Number of segments: {len(segments)}\")\n",
    "\n",
    "# Plot the original trajectory and the segments\n",
    "plt.figure(figsize=(12, 8))\n",
    "\n",
    "# Plot original trajectory\n",
    "plt.plot(x, y, \"k-\", alpha=0.3, label=\"Original\")\n",
    "\n",
    "# Plot each segment with a different color\n",
    "colors = plt.cm.rainbow(np.linspace(0, 1, len(segments)))\n",
    "for i, segment in enumerate(segments):\n",
    "    segment_x = [p[0] for p in segment]\n",
    "    segment_y = [p[1] for p in segment]\n",
    "    plt.plot(\n",
    "        segment_x, segment_y, \"-\", color=colors[i], linewidth=2, label=f\"Segment {i+1}\"\n",
    "    )\n",
    "\n",
    "plt.title(\"Trajectory Segments using RDP\")\n",
    "plt.xlabel(\"X\")\n",
    "plt.ylabel(\"Y\")\n",
    "plt.legend(loc=\"upper left\", bbox_to_anchor=(1, 1))\n",
    "plt.grid(True)\n",
    "plt.tight_layout()\n",
    "plt.show()"
   ]
  },
  {
   "cell_type": "markdown",
   "metadata": {},
   "source": [
    "## Perturb One Segment\n"
   ]
  },
  {
   "cell_type": "code",
   "execution_count": null,
   "metadata": {},
   "outputs": [],
   "source": [
    "# Apply Gaussian perturbation to one segment\n",
    "segment_to_perturb = 1  # Choose which segment to perturb\n",
    "perturbed_segment = gaussian_perturbation(segments[segment_to_perturb])\n",
    "\n",
    "# Visualize the perturbation\n",
    "plt.figure(figsize=(12, 8))\n",
    "\n",
    "# Plot original trajectory\n",
    "plt.plot(x, y, \"k-\", alpha=0.3, label=\"Original\")\n",
    "\n",
    "# Create a modified trajectory by replacing the perturbed segment\n",
    "modified_segments = segments.copy()\n",
    "modified_segments[segment_to_perturb] = perturbed_segment\n",
    "modified_trajectory = []\n",
    "for segment in modified_segments:\n",
    "    modified_trajectory.extend(segment)\n",
    "\n",
    "# Plot modified trajectory\n",
    "modified_x = [p[0] for p in modified_trajectory]\n",
    "modified_y = [p[1] for p in modified_trajectory]\n",
    "plt.plot(modified_x, modified_y, \"r-\", label=\"Modified Trajectory\")\n",
    "\n",
    "# Highlight the perturbed segment\n",
    "perturbed_x = [p[0] for p in perturbed_segment]\n",
    "perturbed_y = [p[1] for p in perturbed_segment]\n",
    "plt.plot(\n",
    "    perturbed_x,\n",
    "    perturbed_y,\n",
    "    \"g-\",\n",
    "    linewidth=2,\n",
    "    label=f\"Perturbed Segment {segment_to_perturb+1}\",\n",
    ")\n",
    "\n",
    "plt.title(\"Trajectory with Perturbed Segment\")\n",
    "plt.xlabel(\"X\")\n",
    "plt.ylabel(\"Y\")\n",
    "plt.legend()\n",
    "plt.grid(True)\n",
    "plt.show()"
   ]
  },
  {
   "cell_type": "markdown",
   "metadata": {},
   "source": [
    "## Generate Explanation\n"
   ]
  },
  {
   "cell_type": "code",
   "execution_count": null,
   "metadata": {},
   "outputs": [],
   "source": [
    "# Create a TrajectoryManipulator for the sample trajectory\n",
    "trajectory_explainer = TrajectoryManipulator(\n",
    "    points, rdp_segmentation, gaussian_perturbation, model\n",
    ")\n",
    "\n",
    "# Get segments\n",
    "segments = trajectory_explainer.get_segment()\n",
    "print(f\"Number of segments: {len(segments)}\")\n",
    "\n",
    "# Generate explanation\n",
    "coef = trajectory_explainer.explain()\n",
    "print(f\"\\nExplanation coefficients: {coef}\")\n",
    "\n",
    "if coef is not None:\n",
    "    # Get the absolute values of coefficients for importance\n",
    "    if len(coef.shape) > 1 and coef.shape[0] > 1:\n",
    "        # For multi-class, take the row corresponding to the predicted class\n",
    "        y = trajectory_explainer.get_Y()[0]\n",
    "        class_index = np.where(trajectory_explainer.classes_ == y)[0][0]\n",
    "        importances = np.abs(coef[class_index])\n",
    "    else:\n",
    "        importances = np.abs(coef[0])\n",
    "\n",
    "    # Visualize segment importance\n",
    "    plt.figure(figsize=(12, 8))\n",
    "\n",
    "    # Plot the original trajectory\n",
    "    plt.plot(x, y, \"k-\", alpha=0.3)\n",
    "\n",
    "    # Plot each segment with color intensity based on importance\n",
    "    normalized_importances = importances / importances.max()\n",
    "\n",
    "    for i, segment in enumerate(segments):\n",
    "        segment_x = [p[0] for p in segment]\n",
    "        segment_y = [p[1] for p in segment]\n",
    "\n",
    "        # Use red for positive influence, stronger color for higher importance\n",
    "        color_intensity = normalized_importances[i]\n",
    "        plt.plot(\n",
    "            segment_x,\n",
    "            segment_y,\n",
    "            \"-\",\n",
    "            color=(1.0, 0.0, 0.0, color_intensity),\n",
    "            linewidth=2 + 3 * color_intensity,\n",
    "        )\n",
    "\n",
    "        # Add a text label for the segment importance\n",
    "        mid_point = len(segment) // 2\n",
    "        plt.text(\n",
    "            segment_x[mid_point],\n",
    "            segment_y[mid_point],\n",
    "            f\"{importances[i]:.2f}\",\n",
    "            fontweight=\"bold\",\n",
    "            ha=\"center\",\n",
    "            va=\"bottom\",\n",
    "        )\n",
    "\n",
    "    plt.title(\"Segment Importance for Classification\")\n",
    "    plt.xlabel(\"X\")\n",
    "    plt.ylabel(\"Y\")\n",
    "    plt.colorbar(plt.cm.ScalarMappable(cmap=\"Reds\"), label=\"Importance\")\n",
    "    plt.grid(True)\n",
    "    plt.show()"
   ]
  },
  {
   "cell_type": "markdown",
   "metadata": {},
   "source": [
    "## Evaluate the Effect of Perturbations\n"
   ]
  },
  {
   "cell_type": "code",
   "execution_count": null,
   "metadata": {},
   "outputs": [],
   "source": [
    "# Get predictions for evaluation trajectories\n",
    "y_eval_sorted = trajectory_explainer.get_Y_eval_sorted()\n",
    "print(\"Predictions for evaluation trajectories (sorted by importance):\")\n",
    "for i, pred in enumerate(y_eval_sorted):\n",
    "    print(f\"Segment {i+1}: {pred}\")\n",
    "\n",
    "# Get the original prediction\n",
    "original_pred = trajectory_explainer.get_Y()\n",
    "print(f\"\\nOriginal trajectory prediction: {original_pred}\")\n",
    "\n",
    "# Check if any segments change the classification when perturbed\n",
    "changed_segments = []\n",
    "for i, pred in enumerate(y_eval_sorted):\n",
    "    if pred != original_pred:\n",
    "        changed_segments.append(i)\n",
    "\n",
    "print(f\"\\nSegments that changed classification when perturbed: {changed_segments}\")"
   ]
  }
 ],
 "metadata": {
  "language_info": {
   "name": "python"
  }
 },
 "nbformat": 4,
 "nbformat_minor": 2
}
