{
 "cells": [
  {
   "cell_type": "markdown",
   "metadata": {},
   "source": [
    "# Comparing Segmentation and Perturbation Methods\n",
    "\n",
    "This notebook compares different segmentation and perturbation methods for trajectory explanation.\n"
   ]
  },
  {
   "cell_type": "code",
   "execution_count": null,
   "metadata": {},
   "outputs": [],
   "source": [
    "import numpy as np\n",
    "import matplotlib.pyplot as plt\n",
    "from pactus import Dataset\n",
    "from pactus.models import LSTMModel\n",
    "\n",
    "# Import from the traj-xai package\n",
    "from traj_xai import (\n",
    "    rdp_segmentation,\n",
    "    mdl_segmentation,\n",
    "    sliding_window_segmentation,\n",
    "    random_segmentation,\n",
    "    gaussian_perturbation,\n",
    "    scaling_perturbation,\n",
    "    rotation_perturbation,\n",
    "    run_experiments,\n",
    ")"
   ]
  },
  {
   "cell_type": "markdown",
   "metadata": {},
   "source": [
    "## Load and Prepare Data\n"
   ]
  },
  {
   "cell_type": "code",
   "execution_count": null,
   "metadata": {},
   "outputs": [],
   "source": [
    "# Set a random seed for reproducibility\n",
    "SEED = 0\n",
    "\n",
    "# Load the UCI Movement Libras dataset (smaller dataset for demonstration)\n",
    "dataset = Dataset.uci_movement_libras()\n",
    "print(f\"Dataset loaded: {len(dataset.trajs)} trajectories\")\n",
    "\n",
    "# Split data into train and test subsets\n",
    "train, test = dataset.split(0.8, random_state=SEED)\n",
    "print(f\"Train set: {len(train.trajs)} trajectories\")\n",
    "print(f\"Test set: {len(test.trajs)} trajectories\")\n",
    "\n",
    "# Take a small subset for quicker demonstration\n",
    "small_test = test.sample(5, random_state=SEED)\n",
    "print(f\"Small test set: {len(small_test.trajs)} trajectories\")"
   ]
  },
  {
   "cell_type": "markdown",
   "metadata": {},
   "source": [
    "## Train a Black Box Model\n"
   ]
  },
  {
   "cell_type": "code",
   "execution_count": null,
   "metadata": {},
   "outputs": [],
   "source": [
    "# Build and train the model\n",
    "model = LSTMModel(random_state=SEED)\n",
    "\n",
    "# Train the model on the train dataset (with fewer epochs for demo)\n",
    "model.train(train, dataset, epochs=5, batch_size=64)\n",
    "\n",
    "# Evaluate the model on the test dataset\n",
    "evaluation = model.evaluate(test)\n",
    "evaluation.show()"
   ]
  },
  {
   "cell_type": "markdown",
   "metadata": {},
   "source": [
    "## Compare Different Segmentation Methods\n"
   ]
  },
  {
   "cell_type": "code",
   "execution_count": null,
   "metadata": {},
   "outputs": [],
   "source": [
    "# Get a sample trajectory\n",
    "sample_idx = 0\n",
    "sample_traj = small_test.trajs[sample_idx]\n",
    "sample_label = small_test.labels[sample_idx]\n",
    "\n",
    "# Extract points\n",
    "points = sample_traj.r\n",
    "x = [p[0] for p in points]\n",
    "y = [p[1] for p in points]\n",
    "\n",
    "# Apply different segmentation methods\n",
    "rdp_segments = rdp_segmentation(points, epsilon=0.01)\n",
    "mdl_segments = mdl_segmentation(points, epsilon=0.8)\n",
    "sliding_segments = sliding_window_segmentation(points, step=5, percentage=10)\n",
    "random_segments = random_segmentation(points, num_segments=5)\n",
    "\n",
    "# Prepare subplots for visualization\n",
    "fig, axs = plt.subplots(2, 2, figsize=(15, 10))\n",
    "axs = axs.flatten()\n",
    "\n",
    "\n",
    "# Helper function to plot segments\n",
    "def plot_segments(ax, segments, method_name):\n",
    "    # Plot original trajectory\n",
    "    ax.plot(x, y, \"k-\", alpha=0.3, label=\"Original\")\n",
    "\n",
    "    # Plot segments\n",
    "    colors = plt.cm.rainbow(np.linspace(0, 1, len(segments)))\n",
    "    for i, segment in enumerate(segments):\n",
    "        segment_x = [p[0] for p in segment]\n",
    "        segment_y = [p[1] for p in segment]\n",
    "        ax.plot(segment_x, segment_y, \"-\", color=colors[i], linewidth=2)\n",
    "\n",
    "    ax.set_title(f\"{method_name} (Segments: {len(segments)})\")\n",
    "    ax.set_xlabel(\"X\")\n",
    "    ax.set_ylabel(\"Y\")\n",
    "    ax.grid(True)\n",
    "\n",
    "\n",
    "# Plot each segmentation method\n",
    "plot_segments(axs[0], rdp_segments, \"RDP Segmentation\")\n",
    "plot_segments(axs[1], mdl_segments, \"MDL Segmentation\")\n",
    "plot_segments(axs[2], sliding_segments, \"Sliding Window\")\n",
    "plot_segments(axs[3], random_segments, \"Random Segmentation\")\n",
    "\n",
    "plt.tight_layout()\n",
    "plt.show()"
   ]
  },
  {
   "cell_type": "markdown",
   "metadata": {},
   "source": [
    "## Compare Different Perturbation Methods\n"
   ]
  },
  {
   "cell_type": "code",
   "execution_count": null,
   "metadata": {},
   "outputs": [],
   "source": [
    "# Choose one segmentation method\n",
    "segments = rdp_segments\n",
    "\n",
    "# Choose one segment to perturb\n",
    "segment_to_perturb_idx = 0\n",
    "segment_to_perturb = segments[segment_to_perturb_idx]\n",
    "\n",
    "# Apply different perturbation methods\n",
    "gaussian_perturbed = gaussian_perturbation(segment_to_perturb)\n",
    "scaling_perturbed = scaling_perturbation(segment_to_perturb)\n",
    "rotation_perturbed = rotation_perturbation(segment_to_perturb)\n",
    "\n",
    "# Prepare subplots for visualization\n",
    "fig, axs = plt.subplots(1, 3, figsize=(18, 5))\n",
    "\n",
    "\n",
    "# Helper function to plot perturbed segment\n",
    "def plot_perturbation(ax, perturbed_segment, method_name):\n",
    "    # Plot original trajectory\n",
    "    ax.plot(x, y, \"k-\", alpha=0.3, label=\"Original\")\n",
    "\n",
    "    # Plot original segment\n",
    "    segment_x = [p[0] for p in segment_to_perturb]\n",
    "    segment_y = [p[1] for p in segment_to_perturb]\n",
    "    ax.plot(segment_x, segment_y, \"b-\", linewidth=2, label=\"Original Segment\")\n",
    "\n",
    "    # Plot perturbed segment\n",
    "    perturbed_x = [p[0] for p in perturbed_segment]\n",
    "    perturbed_y = [p[1] for p in perturbed_segment]\n",
    "    ax.plot(perturbed_x, perturbed_y, \"r-\", linewidth=2, label=\"Perturbed\")\n",
    "\n",
    "    ax.set_title(method_name)\n",
    "    ax.set_xlabel(\"X\")\n",
    "    ax.set_ylabel(\"Y\")\n",
    "    ax.legend()\n",
    "    ax.grid(True)\n",
    "\n",
    "\n",
    "# Plot each perturbation method\n",
    "plot_perturbation(axs[0], gaussian_perturbed, \"Gaussian Perturbation\")\n",
    "plot_perturbation(axs[1], scaling_perturbed, \"Scaling Perturbation\")\n",
    "plot_perturbation(axs[2], rotation_perturbed, \"Rotation Perturbation\")\n",
    "\n",
    "plt.tight_layout()\n",
    "plt.show()"
   ]
  },
  {
   "cell_type": "markdown",
   "metadata": {},
   "source": [
    "## Run Experiments with Different Methods\n"
   ]
  },
  {
   "cell_type": "code",
   "execution_count": null,
   "metadata": {},
   "outputs": [],
   "source": [
    "# Define the segmentation and perturbation functions to compare\n",
    "segment_funcs = [rdp_segmentation, mdl_segmentation]\n",
    "perturbation_funcs = [gaussian_perturbation, rotation_perturbation]\n",
    "\n",
    "# Create a log directory\n",
    "import os\n",
    "\n",
    "log_dir = \"comparison_results\"\n",
    "os.makedirs(log_dir, exist_ok=True)\n",
    "\n",
    "# Run experiments on a small subset for demonstration\n",
    "print(\"Running experiments with different methods...\")\n",
    "run_experiments(small_test, segment_funcs, perturbation_funcs, model, log_dir=log_dir)"
   ]
  },
  {
   "cell_type": "markdown",
   "metadata": {},
   "source": [
    "## Analyze Results\n"
   ]
  },
  {
   "cell_type": "code",
   "execution_count": null,
   "metadata": {},
   "outputs": [],
   "source": [
    "# Load and analyze results\n",
    "import pandas as pd\n",
    "import glob\n",
    "\n",
    "# Find all result files\n",
    "result_files = glob.glob(os.path.join(log_dir, \"*.csv\"))\n",
    "print(f\"Found {len(result_files)} result files\")\n",
    "\n",
    "# Load results into DataFrames\n",
    "results_data = {}\n",
    "for file_path in result_files:\n",
    "    method_name = os.path.basename(file_path).replace(\"_results.csv\", \"\")\n",
    "    results_data[method_name] = pd.read_csv(file_path)\n",
    "\n",
    "# Calculate average precision score and change percentage for each method\n",
    "summary = []\n",
    "for method, df in results_data.items():\n",
    "    avg_precision = df[\"precision_score\"].mean()\n",
    "    change_pct = df[\"change\"].mean() * 100\n",
    "    summary.append(\n",
    "        {\n",
    "            \"Method\": method,\n",
    "            \"Avg Precision\": avg_precision,\n",
    "            \"Change %\": change_pct,\n",
    "            \"Count\": len(df),\n",
    "        }\n",
    "    )\n",
    "\n",
    "# Display summary\n",
    "summary_df = pd.DataFrame(summary)\n",
    "display(summary_df)\n",
    "\n",
    "# Plot results\n",
    "plt.figure(figsize=(12, 6))\n",
    "x = np.arange(len(summary))\n",
    "width = 0.35\n",
    "\n",
    "fig, ax = plt.subplots(figsize=(10, 6))\n",
    "ax.bar(\n",
    "    x - width / 2,\n",
    "    [item[\"Avg Precision\"] for item in summary],\n",
    "    width,\n",
    "    label=\"Avg Precision\",\n",
    ")\n",
    "ax.bar(\n",
    "    x + width / 2, [item[\"Change %\"] / 100 for item in summary], width, label=\"Change %\"\n",
    ")\n",
    "\n",
    "ax.set_ylabel(\"Score\")\n",
    "ax.set_title(\"Comparison of Different Methods\")\n",
    "ax.set_xticks(x)\n",
    "ax.set_xticklabels([item[\"Method\"] for item in summary])\n",
    "ax.legend()\n",
    "\n",
    "plt.tight_layout()\n",
    "plt.show()"
   ]
  }
 ],
 "metadata": {
  "language_info": {
   "name": "python"
  }
 },
 "nbformat": 4,
 "nbformat_minor": 2
}
