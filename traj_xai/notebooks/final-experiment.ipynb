{
 "cells": [
  {
   "cell_type": "code",
   "execution_count": null,
   "id": "WNBeAZJrGS5i",
   "metadata": {
    "colab": {
     "base_uri": "https://localhost:8080/"
    },
    "executionInfo": {
     "elapsed": 34095,
     "status": "ok",
     "timestamp": 1744362391380,
     "user": {
      "displayName": "Phúc Bùi Đăng",
      "userId": "10070853033529104099"
     },
     "user_tz": -420
    },
    "id": "WNBeAZJrGS5i",
    "outputId": "562cd73f-38d1-437e-f12b-e50de405b1b0"
   },
   "outputs": [
    {
     "name": "stdout",
     "output_type": "stream",
     "text": [
      "Mounted at /content/drive\n"
     ]
    }
   ],
   "source": [
    "# from google.colab import drive\n",
    "# drive.mount('/content/drive')"
   ]
  },
  {
   "cell_type": "code",
   "execution_count": 2,
   "id": "89sFgc1mGQtz",
   "metadata": {
    "colab": {
     "base_uri": "https://localhost:8080/"
    },
    "executionInfo": {
     "elapsed": 20343,
     "status": "ok",
     "timestamp": 1744362411692,
     "user": {
      "displayName": "Phúc Bùi Đăng",
      "userId": "10070853033529104099"
     },
     "user_tz": -420
    },
    "id": "89sFgc1mGQtz",
    "outputId": "395cf5ea-f9fb-4459-d2c8-a47634863637"
   },
   "outputs": [
    {
     "name": "stdout",
     "output_type": "stream",
     "text": [
      "Collecting rdp\n",
      "  Downloading rdp-0.8.tar.gz (4.4 kB)\n",
      "  Preparing metadata (setup.py) ... \u001b[?25l\u001b[?25hdone\n",
      "Collecting fastdtw\n",
      "  Downloading fastdtw-0.3.4.tar.gz (133 kB)\n",
      "\u001b[2K     \u001b[90m━━━━━━━━━━━━━━━━━━━━━━━━━━━━━━━━━━━━━━━\u001b[0m \u001b[32m133.4/133.4 kB\u001b[0m \u001b[31m2.9 MB/s\u001b[0m eta \u001b[36m0:00:00\u001b[0m\n",
      "\u001b[?25h  Preparing metadata (setup.py) ... \u001b[?25l\u001b[?25hdone\n",
      "Collecting pactus\n",
      "  Downloading pactus-0.4.3-py3-none-any.whl.metadata (4.7 kB)\n",
      "Requirement already satisfied: numpy in /usr/local/lib/python3.11/dist-packages (from rdp) (2.0.2)\n",
      "Collecting yupi>=0.11.2 (from pactus)\n",
      "  Downloading yupi-0.13.0-py3-none-any.whl.metadata (3.2 kB)\n",
      "Requirement already satisfied: tensorflow>=2.12.0 in /usr/local/lib/python3.11/dist-packages (from pactus) (2.18.0)\n",
      "Requirement already satisfied: scikit-learn>=1.1.1 in /usr/local/lib/python3.11/dist-packages (from pactus) (1.6.1)\n",
      "Requirement already satisfied: xgboost>=1.7.4 in /usr/local/lib/python3.11/dist-packages (from pactus) (2.1.4)\n",
      "Requirement already satisfied: GitPython>=3.1.29 in /usr/local/lib/python3.11/dist-packages (from pactus) (3.1.44)\n",
      "Requirement already satisfied: requests>=2.32.3 in /usr/local/lib/python3.11/dist-packages (from pactus) (2.32.3)\n",
      "Requirement already satisfied: gitdb<5,>=4.0.1 in /usr/local/lib/python3.11/dist-packages (from GitPython>=3.1.29->pactus) (4.0.12)\n",
      "Requirement already satisfied: charset-normalizer<4,>=2 in /usr/local/lib/python3.11/dist-packages (from requests>=2.32.3->pactus) (3.4.1)\n",
      "Requirement already satisfied: idna<4,>=2.5 in /usr/local/lib/python3.11/dist-packages (from requests>=2.32.3->pactus) (3.10)\n",
      "Requirement already satisfied: urllib3<3,>=1.21.1 in /usr/local/lib/python3.11/dist-packages (from requests>=2.32.3->pactus) (2.3.0)\n",
      "Requirement already satisfied: certifi>=2017.4.17 in /usr/local/lib/python3.11/dist-packages (from requests>=2.32.3->pactus) (2025.1.31)\n",
      "Requirement already satisfied: scipy>=1.6.0 in /usr/local/lib/python3.11/dist-packages (from scikit-learn>=1.1.1->pactus) (1.14.1)\n",
      "Requirement already satisfied: joblib>=1.2.0 in /usr/local/lib/python3.11/dist-packages (from scikit-learn>=1.1.1->pactus) (1.4.2)\n",
      "Requirement already satisfied: threadpoolctl>=3.1.0 in /usr/local/lib/python3.11/dist-packages (from scikit-learn>=1.1.1->pactus) (3.6.0)\n",
      "Requirement already satisfied: absl-py>=1.0.0 in /usr/local/lib/python3.11/dist-packages (from tensorflow>=2.12.0->pactus) (1.4.0)\n",
      "Requirement already satisfied: astunparse>=1.6.0 in /usr/local/lib/python3.11/dist-packages (from tensorflow>=2.12.0->pactus) (1.6.3)\n",
      "Requirement already satisfied: flatbuffers>=24.3.25 in /usr/local/lib/python3.11/dist-packages (from tensorflow>=2.12.0->pactus) (25.2.10)\n",
      "Requirement already satisfied: gast!=0.5.0,!=0.5.1,!=0.5.2,>=0.2.1 in /usr/local/lib/python3.11/dist-packages (from tensorflow>=2.12.0->pactus) (0.6.0)\n",
      "Requirement already satisfied: google-pasta>=0.1.1 in /usr/local/lib/python3.11/dist-packages (from tensorflow>=2.12.0->pactus) (0.2.0)\n",
      "Requirement already satisfied: libclang>=13.0.0 in /usr/local/lib/python3.11/dist-packages (from tensorflow>=2.12.0->pactus) (18.1.1)\n",
      "Requirement already satisfied: opt-einsum>=2.3.2 in /usr/local/lib/python3.11/dist-packages (from tensorflow>=2.12.0->pactus) (3.4.0)\n",
      "Requirement already satisfied: packaging in /usr/local/lib/python3.11/dist-packages (from tensorflow>=2.12.0->pactus) (24.2)\n",
      "Requirement already satisfied: protobuf!=4.21.0,!=4.21.1,!=4.21.2,!=4.21.3,!=4.21.4,!=4.21.5,<6.0.0dev,>=3.20.3 in /usr/local/lib/python3.11/dist-packages (from tensorflow>=2.12.0->pactus) (5.29.4)\n",
      "Requirement already satisfied: setuptools in /usr/local/lib/python3.11/dist-packages (from tensorflow>=2.12.0->pactus) (75.2.0)\n",
      "Requirement already satisfied: six>=1.12.0 in /usr/local/lib/python3.11/dist-packages (from tensorflow>=2.12.0->pactus) (1.17.0)\n",
      "Requirement already satisfied: termcolor>=1.1.0 in /usr/local/lib/python3.11/dist-packages (from tensorflow>=2.12.0->pactus) (3.0.1)\n",
      "Requirement already satisfied: typing-extensions>=3.6.6 in /usr/local/lib/python3.11/dist-packages (from tensorflow>=2.12.0->pactus) (4.13.1)\n",
      "Requirement already satisfied: wrapt>=1.11.0 in /usr/local/lib/python3.11/dist-packages (from tensorflow>=2.12.0->pactus) (1.17.2)\n",
      "Requirement already satisfied: grpcio<2.0,>=1.24.3 in /usr/local/lib/python3.11/dist-packages (from tensorflow>=2.12.0->pactus) (1.71.0)\n",
      "Requirement already satisfied: tensorboard<2.19,>=2.18 in /usr/local/lib/python3.11/dist-packages (from tensorflow>=2.12.0->pactus) (2.18.0)\n",
      "Requirement already satisfied: keras>=3.5.0 in /usr/local/lib/python3.11/dist-packages (from tensorflow>=2.12.0->pactus) (3.8.0)\n",
      "Requirement already satisfied: h5py>=3.11.0 in /usr/local/lib/python3.11/dist-packages (from tensorflow>=2.12.0->pactus) (3.13.0)\n",
      "Requirement already satisfied: ml-dtypes<0.5.0,>=0.4.0 in /usr/local/lib/python3.11/dist-packages (from tensorflow>=2.12.0->pactus) (0.4.1)\n",
      "Requirement already satisfied: tensorflow-io-gcs-filesystem>=0.23.1 in /usr/local/lib/python3.11/dist-packages (from tensorflow>=2.12.0->pactus) (0.37.1)\n",
      "Requirement already satisfied: nvidia-nccl-cu12 in /usr/local/lib/python3.11/dist-packages (from xgboost>=1.7.4->pactus) (2.21.5)\n",
      "Requirement already satisfied: matplotlib>=3.2.0 in /usr/local/lib/python3.11/dist-packages (from yupi>=0.11.2->pactus) (3.10.0)\n",
      "Collecting nudged>=0.3.1 (from yupi>=0.11.2->pactus)\n",
      "  Downloading nudged-0.3.1-py2.py3-none-any.whl.metadata (5.8 kB)\n",
      "Requirement already satisfied: opencv-python>=4.4.0 in /usr/local/lib/python3.11/dist-packages (from yupi>=0.11.2->pactus) (4.11.0.86)\n",
      "Requirement already satisfied: wheel<1.0,>=0.23.0 in /usr/local/lib/python3.11/dist-packages (from astunparse>=1.6.0->tensorflow>=2.12.0->pactus) (0.45.1)\n",
      "Requirement already satisfied: smmap<6,>=3.0.1 in /usr/local/lib/python3.11/dist-packages (from gitdb<5,>=4.0.1->GitPython>=3.1.29->pactus) (5.0.2)\n",
      "Requirement already satisfied: rich in /usr/local/lib/python3.11/dist-packages (from keras>=3.5.0->tensorflow>=2.12.0->pactus) (13.9.4)\n",
      "Requirement already satisfied: namex in /usr/local/lib/python3.11/dist-packages (from keras>=3.5.0->tensorflow>=2.12.0->pactus) (0.0.8)\n",
      "Requirement already satisfied: optree in /usr/local/lib/python3.11/dist-packages (from keras>=3.5.0->tensorflow>=2.12.0->pactus) (0.14.1)\n",
      "Requirement already satisfied: contourpy>=1.0.1 in /usr/local/lib/python3.11/dist-packages (from matplotlib>=3.2.0->yupi>=0.11.2->pactus) (1.3.1)\n",
      "Requirement already satisfied: cycler>=0.10 in /usr/local/lib/python3.11/dist-packages (from matplotlib>=3.2.0->yupi>=0.11.2->pactus) (0.12.1)\n",
      "Requirement already satisfied: fonttools>=4.22.0 in /usr/local/lib/python3.11/dist-packages (from matplotlib>=3.2.0->yupi>=0.11.2->pactus) (4.57.0)\n",
      "Requirement already satisfied: kiwisolver>=1.3.1 in /usr/local/lib/python3.11/dist-packages (from matplotlib>=3.2.0->yupi>=0.11.2->pactus) (1.4.8)\n",
      "Requirement already satisfied: pillow>=8 in /usr/local/lib/python3.11/dist-packages (from matplotlib>=3.2.0->yupi>=0.11.2->pactus) (11.1.0)\n",
      "Requirement already satisfied: pyparsing>=2.3.1 in /usr/local/lib/python3.11/dist-packages (from matplotlib>=3.2.0->yupi>=0.11.2->pactus) (3.2.3)\n",
      "Requirement already satisfied: python-dateutil>=2.7 in /usr/local/lib/python3.11/dist-packages (from matplotlib>=3.2.0->yupi>=0.11.2->pactus) (2.8.2)\n",
      "Requirement already satisfied: markdown>=2.6.8 in /usr/local/lib/python3.11/dist-packages (from tensorboard<2.19,>=2.18->tensorflow>=2.12.0->pactus) (3.7)\n",
      "Requirement already satisfied: tensorboard-data-server<0.8.0,>=0.7.0 in /usr/local/lib/python3.11/dist-packages (from tensorboard<2.19,>=2.18->tensorflow>=2.12.0->pactus) (0.7.2)\n",
      "Requirement already satisfied: werkzeug>=1.0.1 in /usr/local/lib/python3.11/dist-packages (from tensorboard<2.19,>=2.18->tensorflow>=2.12.0->pactus) (3.1.3)\n",
      "Requirement already satisfied: MarkupSafe>=2.1.1 in /usr/local/lib/python3.11/dist-packages (from werkzeug>=1.0.1->tensorboard<2.19,>=2.18->tensorflow>=2.12.0->pactus) (3.0.2)\n",
      "Requirement already satisfied: markdown-it-py>=2.2.0 in /usr/local/lib/python3.11/dist-packages (from rich->keras>=3.5.0->tensorflow>=2.12.0->pactus) (3.0.0)\n",
      "Requirement already satisfied: pygments<3.0.0,>=2.13.0 in /usr/local/lib/python3.11/dist-packages (from rich->keras>=3.5.0->tensorflow>=2.12.0->pactus) (2.18.0)\n",
      "Requirement already satisfied: mdurl~=0.1 in /usr/local/lib/python3.11/dist-packages (from markdown-it-py>=2.2.0->rich->keras>=3.5.0->tensorflow>=2.12.0->pactus) (0.1.2)\n",
      "Downloading pactus-0.4.3-py3-none-any.whl (24 kB)\n",
      "Downloading yupi-0.13.0-py3-none-any.whl (64 kB)\n",
      "\u001b[2K   \u001b[90m━━━━━━━━━━━━━━━━━━━━━━━━━━━━━━━━━━━━━━━━\u001b[0m \u001b[32m64.5/64.5 kB\u001b[0m \u001b[31m5.0 MB/s\u001b[0m eta \u001b[36m0:00:00\u001b[0m\n",
      "\u001b[?25hDownloading nudged-0.3.1-py2.py3-none-any.whl (8.0 kB)\n",
      "Building wheels for collected packages: rdp, fastdtw\n",
      "  Building wheel for rdp (setup.py) ... \u001b[?25l\u001b[?25hdone\n",
      "  Created wheel for rdp: filename=rdp-0.8-py3-none-any.whl size=4585 sha256=04410b2d531981876e12407b7430207a515b964e5df8cc511212b237a497593c\n",
      "  Stored in directory: /root/.cache/pip/wheels/40/25/67/b7065f31a9d5388f822ed08341da456e2dd047a1dbae2cf62a\n",
      "  Building wheel for fastdtw (setup.py) ... \u001b[?25l\u001b[?25hdone\n",
      "  Created wheel for fastdtw: filename=fastdtw-0.3.4-cp311-cp311-linux_x86_64.whl size=542090 sha256=e7906d23dbcb5626dd65eac5a61980719b3cab413b4890c600bf7ea5e24581f6\n",
      "  Stored in directory: /root/.cache/pip/wheels/5c/8a/f6/fd3df9a9714677410a5ccbf3ca519e66db4a54a1c46ea95332\n",
      "Successfully built rdp fastdtw\n",
      "Installing collected packages: nudged, rdp, fastdtw, yupi, pactus\n",
      "Successfully installed fastdtw-0.3.4 nudged-0.3.1 pactus-0.4.3 rdp-0.8 yupi-0.13.0\n"
     ]
    }
   ],
   "source": [
    "# Install required packages if needed\n",
    "!pip install rdp fastdtw pactus"
   ]
  },
  {
   "cell_type": "code",
   "execution_count": 3,
   "id": "ddf1cd28",
   "metadata": {
    "execution": {
     "iopub.execute_input": "2025-03-02T14:37:02.496747Z",
     "iopub.status.busy": "2025-03-02T14:37:02.496133Z",
     "iopub.status.idle": "2025-03-02T14:37:06.568760Z",
     "shell.execute_reply": "2025-03-02T14:37:06.568001Z"
    },
    "executionInfo": {
     "elapsed": 11710,
     "status": "ok",
     "timestamp": 1744362423403,
     "user": {
      "displayName": "Phúc Bùi Đăng",
      "userId": "10070853033529104099"
     },
     "user_tz": -420
    },
    "id": "ddf1cd28",
    "papermill": {
     "duration": 4.079761,
     "end_time": "2025-03-02T14:37:06.570403",
     "exception": false,
     "start_time": "2025-03-02T14:37:02.490642",
     "status": "completed"
    },
    "tags": []
   },
   "outputs": [],
   "source": [
    "import os\n",
    "import csv\n",
    "import hashlib\n",
    "import random\n",
    "import numpy as np\n",
    "import psutil\n",
    "from datetime import datetime\n",
    "\n",
    "from fastdtw import fastdtw\n",
    "from rdp import rdp\n",
    "from sklearn.linear_model import LogisticRegression\n",
    "\n",
    "from pactus import Dataset\n",
    "from yupi import Trajectory\n",
    "from pactus.models import (\n",
    "    LSTMModel,\n",
    ")"
   ]
  },
  {
   "cell_type": "code",
   "execution_count": null,
   "id": "4HTwzJG0GLUk",
   "metadata": {
    "executionInfo": {
     "elapsed": 5283,
     "status": "ok",
     "timestamp": 1744362428688,
     "user": {
      "displayName": "Phúc Bùi Đăng",
      "userId": "10070853033529104099"
     },
     "user_tz": -420
    },
    "id": "4HTwzJG0GLUk"
   },
   "outputs": [],
   "source": [
    "# !cp -r '/content/drive/MyDrive/[NCKH]_Trajectory_Data_Mining/traj_xai' '/content/traj_xai'"
   ]
  },
  {
   "cell_type": "code",
   "execution_count": 5,
   "id": "KnD5j42jGMia",
   "metadata": {
    "executionInfo": {
     "elapsed": 3,
     "status": "ok",
     "timestamp": 1744362428690,
     "user": {
      "displayName": "Phúc Bùi Đăng",
      "userId": "10070853033529104099"
     },
     "user_tz": -420
    },
    "id": "KnD5j42jGMia"
   },
   "outputs": [],
   "source": [
    "import numpy as np\n",
    "from pactus import Dataset\n",
    "from pactus.models import LSTMModel\n",
    "import matplotlib.pyplot as plt\n",
    "\n",
    "# Import from our traj-xai package\n",
    "from traj_xai.src import rdp_segmentation, gaussian_perturbation, TrajectoryManipulator"
   ]
  },
  {
   "cell_type": "markdown",
   "id": "8651f520",
   "metadata": {
    "id": "8651f520",
    "papermill": {
     "duration": 0.004132,
     "end_time": "2025-03-02T14:37:06.587931",
     "exception": false,
     "start_time": "2025-03-02T14:37:06.583799",
     "status": "completed"
    },
    "tags": []
   },
   "source": [
    "## Segmentation\n"
   ]
  },
  {
   "cell_type": "code",
   "execution_count": 6,
   "id": "d5ec6e6e",
   "metadata": {
    "executionInfo": {
     "elapsed": 13,
     "status": "ok",
     "timestamp": 1744362428712,
     "user": {
      "displayName": "Phúc Bùi Đăng",
      "userId": "10070853033529104099"
     },
     "user_tz": -420
    },
    "id": "d5ec6e6e"
   },
   "outputs": [],
   "source": [
    "from traj_xai.src import (\n",
    "    rdp_segmentation,\n",
    "    random_segmentation,\n",
    "    mdl_segmentation,\n",
    "    sliding_window_segmentation,\n",
    ")"
   ]
  },
  {
   "cell_type": "markdown",
   "id": "a9427987",
   "metadata": {
    "id": "a9427987",
    "papermill": {
     "duration": 0.004186,
     "end_time": "2025-03-02T14:37:06.619941",
     "exception": false,
     "start_time": "2025-03-02T14:37:06.615755",
     "status": "completed"
    },
    "tags": []
   },
   "source": [
    "## Pertubation\n"
   ]
  },
  {
   "cell_type": "code",
   "execution_count": 7,
   "id": "954ef1ec",
   "metadata": {
    "executionInfo": {
     "elapsed": 13,
     "status": "ok",
     "timestamp": 1744362428726,
     "user": {
      "displayName": "Phúc Bùi Đăng",
      "userId": "10070853033529104099"
     },
     "user_tz": -420
    },
    "id": "954ef1ec"
   },
   "outputs": [],
   "source": [
    "from traj_xai.src import (\n",
    "    gaussian_perturbation,\n",
    "    scaling_perturbation,\n",
    "    rotation_perturbation,\n",
    ")"
   ]
  },
  {
   "cell_type": "markdown",
   "id": "b1776b5f",
   "metadata": {
    "id": "b1776b5f",
    "papermill": {
     "duration": 0.004375,
     "end_time": "2025-03-02T14:37:06.646686",
     "exception": false,
     "start_time": "2025-03-02T14:37:06.642311",
     "status": "completed"
    },
    "tags": []
   },
   "source": [
    "## XAI to get explain\n"
   ]
  },
  {
   "cell_type": "code",
   "execution_count": 8,
   "id": "9877c221",
   "metadata": {
    "executionInfo": {
     "elapsed": 5,
     "status": "ok",
     "timestamp": 1744362428739,
     "user": {
      "displayName": "Phúc Bùi Đăng",
      "userId": "10070853033529104099"
     },
     "user_tz": -420
    },
    "id": "9877c221"
   },
   "outputs": [],
   "source": [
    "from traj_xai.src import TrajectoryManipulator"
   ]
  },
  {
   "cell_type": "markdown",
   "id": "8ae7c104",
   "metadata": {
    "id": "8ae7c104",
    "papermill": {
     "duration": 0.004205,
     "end_time": "2025-03-02T14:37:06.689386",
     "exception": false,
     "start_time": "2025-03-02T14:37:06.685181",
     "status": "completed"
    },
    "tags": []
   },
   "source": [
    "## Evaluation\n"
   ]
  },
  {
   "cell_type": "markdown",
   "id": "c5c69ee2",
   "metadata": {
    "id": "c5c69ee2",
    "papermill": {
     "duration": 0.004247,
     "end_time": "2025-03-02T14:37:06.698069",
     "exception": false,
     "start_time": "2025-03-02T14:37:06.693822",
     "status": "completed"
    },
    "tags": []
   },
   "source": [
    "### Precision@K\n"
   ]
  },
  {
   "cell_type": "code",
   "execution_count": 9,
   "id": "e5861f08",
   "metadata": {
    "execution": {
     "iopub.execute_input": "2025-03-02T14:37:06.708593Z",
     "iopub.status.busy": "2025-03-02T14:37:06.708222Z",
     "iopub.status.idle": "2025-03-02T14:37:06.714268Z",
     "shell.execute_reply": "2025-03-02T14:37:06.712840Z"
    },
    "executionInfo": {
     "elapsed": 15,
     "status": "ok",
     "timestamp": 1744362428754,
     "user": {
      "displayName": "Phúc Bùi Đăng",
      "userId": "10070853033529104099"
     },
     "user_tz": -420
    },
    "id": "e5861f08",
    "papermill": {
     "duration": 0.013759,
     "end_time": "2025-03-02T14:37:06.716255",
     "exception": false,
     "start_time": "2025-03-02T14:37:06.702496",
     "status": "completed"
    },
    "tags": []
   },
   "outputs": [],
   "source": [
    "from traj_xai.src import ap_at_k"
   ]
  },
  {
   "cell_type": "markdown",
   "id": "62e342e5",
   "metadata": {
    "id": "62e342e5",
    "papermill": {
     "duration": 0.004005,
     "end_time": "2025-03-02T14:37:06.725210",
     "exception": false,
     "start_time": "2025-03-02T14:37:06.721205",
     "status": "completed"
    },
    "tags": []
   },
   "source": [
    "## Experiment with all trajectories\n"
   ]
  },
  {
   "cell_type": "markdown",
   "id": "5c182982",
   "metadata": {
    "id": "5c182982"
   },
   "source": [
    "### DL Model\n"
   ]
  },
  {
   "cell_type": "code",
   "execution_count": 10,
   "id": "6e2ab0a9",
   "metadata": {
    "colab": {
     "base_uri": "https://localhost:8080/"
    },
    "execution": {
     "iopub.execute_input": "2025-03-02T14:37:06.735052Z",
     "iopub.status.busy": "2025-03-02T14:37:06.734661Z",
     "iopub.status.idle": "2025-03-02T14:37:21.839785Z",
     "shell.execute_reply": "2025-03-02T14:37:21.838346Z"
    },
    "executionInfo": {
     "elapsed": 31244,
     "status": "ok",
     "timestamp": 1744362460003,
     "user": {
      "displayName": "Phúc Bùi Đăng",
      "userId": "10070853033529104099"
     },
     "user_tz": -420
    },
    "id": "6e2ab0a9",
    "outputId": "0f739009-5691-4414-bca8-25bdbdf762c4",
    "papermill": {
     "duration": 15.111728,
     "end_time": "2025-03-02T14:37:21.841158",
     "exception": false,
     "start_time": "2025-03-02T14:37:06.729430",
     "status": "completed"
    },
    "tags": []
   },
   "outputs": [
    {
     "name": "stderr",
     "output_type": "stream",
     "text": [
      "WARNING:root:Custom seed provided for lstm model. This calls 'tf.keras.utils.set_random_seed' which sets a global random state on python, numpy and tensorflow.\n"
     ]
    },
    {
     "name": "stdout",
     "output_type": "stream",
     "text": [
      "[==                                                ] 5.56%    Size: 0.07 MB\r[=====                                             ] 11.12%    Size: 0.07 MB\r[========                                          ] 16.68%    Size: 0.07 MB\r[===========                                       ] 22.24%    Size: 0.07 MB\r[=============                                     ] 27.80%    Size: 0.07 MB\r[================                                  ] 33.36%    Size: 0.07 MB\r[===================                               ] 38.92%    Size: 0.07 MB\r[======================                            ] 44.49%    Size: 0.07 MB\r[=========================                         ] 50.05%    Size: 0.07 MB\r[===========================                       ] 55.61%    Size: 0.07 MB\r[==============================                    ] 61.17%    Size: 0.07 MB\r[=================================                 ] 66.73%    Size: 0.07 MB\r[====================================              ] 72.29%    Size: 0.07 MB\r[======================================            ] 77.85%    Size: 0.07 MB\r[=========================================         ] 83.41%    Size: 0.07 MB\r[============================================      ] 88.97%    Size: 0.07 MB\r[===============================================   ] 94.53%    Size: 0.07 MB\r[==================================================] 100.00%\n",
      "    Size: 0.07 MB\r"
     ]
    },
    {
     "name": "stderr",
     "output_type": "stream",
     "text": [
      "/usr/local/lib/python3.11/dist-packages/keras/src/layers/core/masking.py:47: UserWarning: Do not pass an `input_shape`/`input_dim` argument to a layer. When using Sequential models, prefer using an `Input(shape)` object as the first layer in the model instead.\n",
      "  super().__init__(**kwargs)\n",
      "/usr/local/lib/python3.11/dist-packages/keras/src/layers/rnn/rnn.py:200: UserWarning: Do not pass an `input_shape`/`input_dim` argument to a layer. When using Sequential models, prefer using an `Input(shape)` object as the first layer in the model instead.\n",
      "  super().__init__(**kwargs)\n"
     ]
    },
    {
     "name": "stdout",
     "output_type": "stream",
     "text": [
      "Epoch 1/10\n",
      "\u001b[1m5/5\u001b[0m \u001b[32m━━━━━━━━━━━━━━━━━━━━\u001b[0m\u001b[37m\u001b[0m \u001b[1m15s\u001b[0m 191ms/step - accuracy: 0.0616 - loss: 2.7158\n",
      "Epoch 2/10\n"
     ]
    },
    {
     "name": "stderr",
     "output_type": "stream",
     "text": [
      "/usr/local/lib/python3.11/dist-packages/keras/src/callbacks/early_stopping.py:153: UserWarning: Early stopping conditioned on metric `val_loss` which is not available. Available metrics are: accuracy,loss\n",
      "  current = self.get_monitor_value(logs)\n"
     ]
    },
    {
     "name": "stdout",
     "output_type": "stream",
     "text": [
      "\u001b[1m5/5\u001b[0m \u001b[32m━━━━━━━━━━━━━━━━━━━━\u001b[0m\u001b[37m\u001b[0m \u001b[1m1s\u001b[0m 178ms/step - accuracy: 0.0577 - loss: 2.7219\n",
      "Epoch 3/10\n",
      "\u001b[1m5/5\u001b[0m \u001b[32m━━━━━━━━━━━━━━━━━━━━\u001b[0m\u001b[37m\u001b[0m \u001b[1m1s\u001b[0m 181ms/step - accuracy: 0.0510 - loss: 2.7168\n",
      "Epoch 4/10\n",
      "\u001b[1m5/5\u001b[0m \u001b[32m━━━━━━━━━━━━━━━━━━━━\u001b[0m\u001b[37m\u001b[0m \u001b[1m2s\u001b[0m 334ms/step - accuracy: 0.0786 - loss: 2.7111\n",
      "Epoch 5/10\n",
      "\u001b[1m5/5\u001b[0m \u001b[32m━━━━━━━━━━━━━━━━━━━━\u001b[0m\u001b[37m\u001b[0m \u001b[1m2s\u001b[0m 355ms/step - accuracy: 0.0440 - loss: 2.7101\n",
      "Epoch 6/10\n",
      "\u001b[1m5/5\u001b[0m \u001b[32m━━━━━━━━━━━━━━━━━━━━\u001b[0m\u001b[37m\u001b[0m \u001b[1m1s\u001b[0m 254ms/step - accuracy: 0.0295 - loss: 2.7098\n",
      "Epoch 7/10\n",
      "\u001b[1m5/5\u001b[0m \u001b[32m━━━━━━━━━━━━━━━━━━━━\u001b[0m\u001b[37m\u001b[0m \u001b[1m2s\u001b[0m 186ms/step - accuracy: 0.0595 - loss: 2.7084\n",
      "Epoch 8/10\n",
      "\u001b[1m5/5\u001b[0m \u001b[32m━━━━━━━━━━━━━━━━━━━━\u001b[0m\u001b[37m\u001b[0m \u001b[1m1s\u001b[0m 185ms/step - accuracy: 0.0595 - loss: 2.7085\n",
      "Epoch 9/10\n",
      "\u001b[1m5/5\u001b[0m \u001b[32m━━━━━━━━━━━━━━━━━━━━\u001b[0m\u001b[37m\u001b[0m \u001b[1m1s\u001b[0m 181ms/step - accuracy: 0.0648 - loss: 2.7085\n",
      "Epoch 10/10\n",
      "\u001b[1m5/5\u001b[0m \u001b[32m━━━━━━━━━━━━━━━━━━━━\u001b[0m\u001b[37m\u001b[0m \u001b[1m1s\u001b[0m 182ms/step - accuracy: 0.0648 - loss: 2.7086\n",
      "\u001b[1m3/3\u001b[0m \u001b[32m━━━━━━━━━━━━━━━━━━━━\u001b[0m\u001b[37m\u001b[0m \u001b[1m2s\u001b[0m 408ms/step\n",
      "\n",
      "General statistics:\n",
      "\n",
      "Accuracy: 0.056\n",
      "F1-score: 0.007\n",
      "Mean precision: 0.004\n",
      "Mean recall: 0.067\n",
      "\n",
      "Confusion matrix:\n",
      "\n",
      "anti-clockwise arc        circle                    clockwise arc             curved swing              face-down curve           face-up curve             horizontal straight-line  horizontal swing          horizontal wavy           horizontal zigzag         tremble                   vertical straight-line    vertical swing            vertical wavy             vertical zigzag           precision                 \n",
      "================================================================================================================================================================================================================================================================================================================================================================================================================================\n",
      "0.0                       0.0                       0.0                       0.0                       0.0                       0.0                       0.0                       0.0                       0.0                       0.0                       0.0                       0.0                       0.0                       0.0                       0.0                       0.0                       \n",
      "0.0                       0.0                       0.0                       0.0                       0.0                       0.0                       0.0                       0.0                       0.0                       0.0                       0.0                       0.0                       0.0                       0.0                       0.0                       0.0                       \n",
      "0.0                       0.0                       0.0                       0.0                       0.0                       0.0                       0.0                       0.0                       0.0                       0.0                       0.0                       0.0                       0.0                       0.0                       0.0                       0.0                       \n",
      "0.0                       0.0                       0.0                       0.0                       0.0                       0.0                       0.0                       0.0                       0.0                       0.0                       0.0                       0.0                       0.0                       0.0                       0.0                       0.0                       \n",
      "0.0                       0.0                       0.0                       0.0                       0.0                       0.0                       0.0                       0.0                       0.0                       0.0                       0.0                       0.0                       0.0                       0.0                       0.0                       0.0                       \n",
      "0.0                       0.0                       0.0                       0.0                       0.0                       0.0                       0.0                       0.0                       0.0                       0.0                       0.0                       0.0                       0.0                       0.0                       0.0                       0.0                       \n",
      "100.0                     100.0                     100.0                     100.0                     100.0                     100.0                     100.0                     100.0                     100.0                     100.0                     100.0                     100.0                     100.0                     100.0                     100.0                     5.56                      \n",
      "0.0                       0.0                       0.0                       0.0                       0.0                       0.0                       0.0                       0.0                       0.0                       0.0                       0.0                       0.0                       0.0                       0.0                       0.0                       0.0                       \n",
      "0.0                       0.0                       0.0                       0.0                       0.0                       0.0                       0.0                       0.0                       0.0                       0.0                       0.0                       0.0                       0.0                       0.0                       0.0                       0.0                       \n",
      "0.0                       0.0                       0.0                       0.0                       0.0                       0.0                       0.0                       0.0                       0.0                       0.0                       0.0                       0.0                       0.0                       0.0                       0.0                       0.0                       \n",
      "0.0                       0.0                       0.0                       0.0                       0.0                       0.0                       0.0                       0.0                       0.0                       0.0                       0.0                       0.0                       0.0                       0.0                       0.0                       0.0                       \n",
      "0.0                       0.0                       0.0                       0.0                       0.0                       0.0                       0.0                       0.0                       0.0                       0.0                       0.0                       0.0                       0.0                       0.0                       0.0                       0.0                       \n",
      "0.0                       0.0                       0.0                       0.0                       0.0                       0.0                       0.0                       0.0                       0.0                       0.0                       0.0                       0.0                       0.0                       0.0                       0.0                       0.0                       \n",
      "0.0                       0.0                       0.0                       0.0                       0.0                       0.0                       0.0                       0.0                       0.0                       0.0                       0.0                       0.0                       0.0                       0.0                       0.0                       0.0                       \n",
      "0.0                       0.0                       0.0                       0.0                       0.0                       0.0                       0.0                       0.0                       0.0                       0.0                       0.0                       0.0                       0.0                       0.0                       0.0                       0.0                       \n",
      "--------------------------------------------------------------------------------------------------------------------------------------------------------------------------------------------------------------------------------------------------------------------------------------------------------------------------------------------------------------------------------------------------------------------------------\n",
      "0.0                       0.0                       0.0                       0.0                       0.0                       0.0                       100.0                     0.0                       0.0                       0.0                       0.0                       0.0                       0.0                       0.0                       0.0                       \n"
     ]
    }
   ],
   "source": [
    "# LSTM Model\n",
    "SEED = 0\n",
    "\n",
    "# datasets = [\n",
    "#     # Dataset.geolife(),\n",
    "#     Dataset.animals(),\n",
    "#     # Dataset.hurdat2(),\n",
    "#     Dataset.uci_characters(),\n",
    "#     Dataset.cma_bst(), 1k\n",
    "#     # Dataset.mnist_stroke(), 1k\n",
    "#     # Dataset.uci_pen_digits(), 1k\n",
    "#     # Dataset.uci_gotrack(),\n",
    "#     Dataset.uci_movement_libras(),\n",
    "# ]\n",
    "# train, test = dataset.mnist_stroke(.8, random_state=SEED)\n",
    "\n",
    "# Load dataset\n",
    "dataset = Dataset.uci_movement_libras()\n",
    "\n",
    "# Split data into train and test subsets\n",
    "train, test = dataset.split(0.8, random_state=SEED)\n",
    "# train, test = dataset.cut(1000)\n",
    "\n",
    "\n",
    "# Build and train the model\n",
    "model = LSTMModel(\n",
    "    random_state=SEED,\n",
    ")\n",
    "# model.init(dataset.classes)\n",
    "# Train the model on the train dataset\n",
    "model.train(train, dataset, epochs=10, batch_size=64, checkpoint=None)\n",
    "\n",
    "# Evaluate the model on a test dataset\n",
    "evaluation = model.evaluate(test)\n",
    "\n",
    "# Print the evaluation\n",
    "evaluation.show()"
   ]
  },
  {
   "cell_type": "markdown",
   "id": "43e3ad2d",
   "metadata": {
    "id": "43e3ad2d"
   },
   "source": [
    "### ML Model\n"
   ]
  },
  {
   "cell_type": "code",
   "execution_count": 11,
   "id": "e78bc70e",
   "metadata": {
    "execution": {
     "iopub.execute_input": "2025-03-02T14:37:21.857621Z",
     "iopub.status.busy": "2025-03-02T14:37:21.857367Z",
     "iopub.status.idle": "2025-03-02T14:37:21.861971Z",
     "shell.execute_reply": "2025-03-02T14:37:21.860266Z"
    },
    "executionInfo": {
     "elapsed": 10,
     "status": "ok",
     "timestamp": 1744362460015,
     "user": {
      "displayName": "Phúc Bùi Đăng",
      "userId": "10070853033529104099"
     },
     "user_tz": -420
    },
    "id": "e78bc70e",
    "papermill": {
     "duration": 0.014616,
     "end_time": "2025-03-02T14:37:21.863966",
     "exception": false,
     "start_time": "2025-03-02T14:37:21.849350",
     "status": "completed"
    },
    "tags": []
   },
   "outputs": [],
   "source": [
    "# # ML Model\n",
    "# SEED = 0\n",
    "\n",
    "# # datasets = [\n",
    "# #     # Dataset.geolife(),\n",
    "# #     Dataset.animals(),\n",
    "# #     # Dataset.hurdat2(), -> RF cant work\n",
    "# #     Dataset.cma_bst(),\n",
    "# #     # Dataset.mnist_stroke(), -> okay\n",
    "# #     # Dataset.uci_pen_digits(),\n",
    "# #     # Dataset.uci_gotrack(),\n",
    "# #     Dataset.uci_characters(),\n",
    "# #     Dataset.uci_movement_libras(),-> okay\n",
    "# # ]\n",
    "\n",
    "# # Load dataset\n",
    "# dataset = Dataset.geolife()\n",
    "\n",
    "# # Split data into train and test subsets\n",
    "# # train, test = dataset.split(.995, random_state=SEED)\n",
    "\n",
    "# train, test = dataset.filter(\n",
    "#         lambda traj, label: len(traj) >= 5\n",
    "#         and traj.r.delta.norm.sum() > 0\n",
    "#         and dataset.label_counts[label] > 5\n",
    "#     ).split(\n",
    "#         train_size=0.985,\n",
    "#         random_state=SEED,\n",
    "#     )\n",
    "\n",
    "# # Build and train the model\n",
    "# featurizer = featurizers.UniversalFeaturizer()\n",
    "# model = XGBoostModel(featurizer=featurizer)\n",
    "# # model = SVMModel(\n",
    "# #     featurizer=featurizer,\n",
    "# #     random_state=SEED,\n",
    "# # )\n",
    "# # DecisionTreeModel(\n",
    "# #     featurizer=featurizer,\n",
    "# #     max_depth=7,\n",
    "# #     random_state=SEED,\n",
    "# # # )\n",
    "\n",
    "\n",
    "# # Train the model on the train dataset\n",
    "# model.train(train, 5) # 5: CV\n",
    "\n",
    "# # Evaluate the model on a test dataset\n",
    "# evaluation = model.evaluate(test)\n",
    "\n",
    "# # Print the evaluation\n",
    "# evaluation.show()"
   ]
  },
  {
   "cell_type": "markdown",
   "id": "6e327aad",
   "metadata": {
    "id": "6e327aad"
   },
   "source": [
    "### Experiment\n"
   ]
  },
  {
   "cell_type": "code",
   "execution_count": 12,
   "id": "027001b6",
   "metadata": {
    "executionInfo": {
     "elapsed": 1,
     "status": "ok",
     "timestamp": 1744362460022,
     "user": {
      "displayName": "Phúc Bùi Đăng",
      "userId": "10070853033529104099"
     },
     "user_tz": -420
    },
    "id": "027001b6"
   },
   "outputs": [],
   "source": [
    "from traj_xai.src import run_experiments"
   ]
  },
  {
   "cell_type": "code",
   "execution_count": 14,
   "id": "e1b7307f",
   "metadata": {
    "colab": {
     "base_uri": "https://localhost:8080/",
     "height": 686
    },
    "execution": {
     "iopub.execute_input": "2025-03-02T14:37:21.911649Z",
     "iopub.status.busy": "2025-03-02T14:37:21.911349Z",
     "iopub.status.idle": "2025-03-02T14:43:48.090934Z",
     "shell.execute_reply": "2025-03-02T14:43:48.089802Z"
    },
    "executionInfo": {
     "elapsed": 26911,
     "status": "error",
     "timestamp": 1744362521419,
     "user": {
      "displayName": "Phúc Bùi Đăng",
      "userId": "10070853033529104099"
     },
     "user_tz": -420
    },
    "id": "e1b7307f",
    "outputId": "90b1b2c2-f306-472c-c7d0-7f2672735ad7",
    "papermill": {
     "duration": 386.19023,
     "end_time": "2025-03-02T14:43:48.092429",
     "exception": false,
     "start_time": "2025-03-02T14:37:21.902199",
     "status": "completed"
    },
    "tags": []
   },
   "outputs": [
    {
     "name": "stdout",
     "output_type": "stream",
     "text": [
      "Running experiment with rdp_segmentation and gaussian_perturbation\n",
      "\u001b[1m32/32\u001b[0m \u001b[32m━━━━━━━━━━━━━━━━━━━━\u001b[0m\u001b[37m\u001b[0m \u001b[1m3s\u001b[0m 84ms/step\n",
      "Doesn't change classification\n",
      "[INFO] Row saved to logs/rdp_segmentation_gaussian_perturbation_results.csv: [0, 'traj_2036236b', 0, 0.0]\n",
      "2025-04-11 09:08:20 - Total RAM: 12.67 GB | Used: 12.9%\n",
      "\u001b[1m32/32\u001b[0m \u001b[32m━━━━━━━━━━━━━━━━━━━━\u001b[0m\u001b[37m\u001b[0m \u001b[1m4s\u001b[0m 116ms/step\n",
      "Doesn't change classification\n",
      "[INFO] Row saved to logs/rdp_segmentation_gaussian_perturbation_results.csv: [1, 'traj_783486d5', 0, 0.0]\n",
      "\u001b[1m32/32\u001b[0m \u001b[32m━━━━━━━━━━━━━━━━━━━━\u001b[0m\u001b[37m\u001b[0m \u001b[1m3s\u001b[0m 98ms/step\n",
      "Doesn't change classification\n",
      "[INFO] Row saved to logs/rdp_segmentation_gaussian_perturbation_results.csv: [2, 'traj_3ff16ccd', 0, 0.0]\n",
      "\u001b[1m32/32\u001b[0m \u001b[32m━━━━━━━━━━━━━━━━━━━━\u001b[0m\u001b[37m\u001b[0m \u001b[1m3s\u001b[0m 92ms/step\n",
      "Doesn't change classification\n",
      "[INFO] Row saved to logs/rdp_segmentation_gaussian_perturbation_results.csv: [3, 'traj_edbdca8a', 0, 0.0]\n",
      "\u001b[1m32/32\u001b[0m \u001b[32m━━━━━━━━━━━━━━━━━━━━\u001b[0m\u001b[37m\u001b[0m \u001b[1m3s\u001b[0m 108ms/step\n",
      "Doesn't change classification\n",
      "[INFO] Row saved to logs/rdp_segmentation_gaussian_perturbation_results.csv: [4, 'traj_8934d5bf', 0, 0.0]\n",
      "\u001b[1m32/32\u001b[0m \u001b[32m━━━━━━━━━━━━━━━━━━━━\u001b[0m\u001b[37m\u001b[0m \u001b[1m2s\u001b[0m 46ms/step\n"
     ]
    },
    {
     "ename": "KeyboardInterrupt",
     "evalue": "",
     "output_type": "error",
     "traceback": [
      "\u001b[0;31m---------------------------------------------------------------------------\u001b[0m",
      "\u001b[0;31mKeyboardInterrupt\u001b[0m                         Traceback (most recent call last)",
      "\u001b[0;32m<ipython-input-14-14b41d400bfb>\u001b[0m in \u001b[0;36m<cell line: 0>\u001b[0;34m()\u001b[0m\n\u001b[1;32m      4\u001b[0m \u001b[0mperturbation_func\u001b[0m \u001b[0;34m=\u001b[0m \u001b[0;34m[\u001b[0m\u001b[0mgaussian_perturbation\u001b[0m\u001b[0;34m,\u001b[0m \u001b[0mscaling_perturbation\u001b[0m\u001b[0;34m,\u001b[0m \u001b[0mrotation_perturbation\u001b[0m\u001b[0;34m]\u001b[0m\u001b[0;34m\u001b[0m\u001b[0;34m\u001b[0m\u001b[0m\n\u001b[1;32m      5\u001b[0m \u001b[0;34m\u001b[0m\u001b[0m\n\u001b[0;32m----> 6\u001b[0;31m run_experiments(\n\u001b[0m\u001b[1;32m      7\u001b[0m     \u001b[0mdataset\u001b[0m\u001b[0;34m,\u001b[0m\u001b[0;34m\u001b[0m\u001b[0;34m\u001b[0m\u001b[0m\n\u001b[1;32m      8\u001b[0m     \u001b[0msegment_func\u001b[0m\u001b[0;34m,\u001b[0m\u001b[0;34m\u001b[0m\u001b[0;34m\u001b[0m\u001b[0m\n",
      "\u001b[0;32m/content/traj_xai/src/experiment.py\u001b[0m in \u001b[0;36mrun_experiments\u001b[0;34m(dataset, segment_funcs, perturbation_funcs, model, log_dir)\u001b[0m\n\u001b[1;32m    134\u001b[0m \u001b[0;34m\u001b[0m\u001b[0m\n\u001b[1;32m    135\u001b[0m             \u001b[0;31m# Loop through the experiment results and save row by row\u001b[0m\u001b[0;34m\u001b[0m\u001b[0;34m\u001b[0m\u001b[0m\n\u001b[0;32m--> 136\u001b[0;31m             \u001b[0;32mfor\u001b[0m \u001b[0mresult\u001b[0m \u001b[0;32min\u001b[0m \u001b[0mexperiment\u001b[0m\u001b[0;34m(\u001b[0m\u001b[0mdataset\u001b[0m\u001b[0;34m,\u001b[0m \u001b[0msegment_func\u001b[0m\u001b[0;34m,\u001b[0m \u001b[0mperturbation_func\u001b[0m\u001b[0;34m,\u001b[0m \u001b[0mmodel\u001b[0m\u001b[0;34m)\u001b[0m\u001b[0;34m:\u001b[0m\u001b[0;34m\u001b[0m\u001b[0;34m\u001b[0m\u001b[0m\n\u001b[0m\u001b[1;32m    137\u001b[0m                 \u001b[0mtraj_idx\u001b[0m\u001b[0;34m,\u001b[0m \u001b[0mtraj_name\u001b[0m\u001b[0;34m,\u001b[0m \u001b[0mchange\u001b[0m\u001b[0;34m,\u001b[0m \u001b[0mprecision_score\u001b[0m \u001b[0;34m=\u001b[0m \u001b[0mresult\u001b[0m\u001b[0;34m\u001b[0m\u001b[0;34m\u001b[0m\u001b[0m\n\u001b[1;32m    138\u001b[0m \u001b[0;34m\u001b[0m\u001b[0m\n",
      "\u001b[0;32m/content/traj_xai/src/experiment.py\u001b[0m in \u001b[0;36mexperiment\u001b[0;34m(dataset, segment_func, perturbation_func, blackbox_model)\u001b[0m\n\u001b[1;32m     44\u001b[0m \u001b[0;34m\u001b[0m\u001b[0m\n\u001b[1;32m     45\u001b[0m             \u001b[0;32mtry\u001b[0m\u001b[0;34m:\u001b[0m\u001b[0;34m\u001b[0m\u001b[0;34m\u001b[0m\u001b[0m\n\u001b[0;32m---> 46\u001b[0;31m                 \u001b[0mcoef\u001b[0m \u001b[0;34m=\u001b[0m \u001b[0mtrajectory_experiment\u001b[0m\u001b[0;34m.\u001b[0m\u001b[0mexplain\u001b[0m\u001b[0;34m(\u001b[0m\u001b[0;34m)\u001b[0m\u001b[0;34m\u001b[0m\u001b[0;34m\u001b[0m\u001b[0m\n\u001b[0m\u001b[1;32m     47\u001b[0m                 \u001b[0;32mif\u001b[0m \u001b[0mcoef\u001b[0m \u001b[0;32mis\u001b[0m \u001b[0;32mNone\u001b[0m\u001b[0;34m:\u001b[0m\u001b[0;34m\u001b[0m\u001b[0;34m\u001b[0m\u001b[0m\n\u001b[1;32m     48\u001b[0m                     \u001b[0mprint\u001b[0m\u001b[0;34m(\u001b[0m\u001b[0;34m\"Doesn't change classification\"\u001b[0m\u001b[0;34m)\u001b[0m\u001b[0;34m\u001b[0m\u001b[0;34m\u001b[0m\u001b[0m\n",
      "\u001b[0;32m/content/traj_xai/src/xai.py\u001b[0m in \u001b[0;36mexplain\u001b[0;34m(self)\u001b[0m\n\u001b[1;32m    244\u001b[0m             \u001b[0mlabels\u001b[0m \u001b[0;34m=\u001b[0m \u001b[0;34m[\u001b[0m\u001b[0;36m1\u001b[0m\u001b[0;34m]\u001b[0m \u001b[0;34m*\u001b[0m \u001b[0;34m(\u001b[0m\u001b[0mlen\u001b[0m\u001b[0;34m(\u001b[0m\u001b[0mZ_trajs\u001b[0m\u001b[0;34m)\u001b[0m \u001b[0;34m-\u001b[0m \u001b[0;36m1\u001b[0m\u001b[0;34m)\u001b[0m \u001b[0;34m+\u001b[0m \u001b[0;34m[\u001b[0m\u001b[0;36m0\u001b[0m\u001b[0;34m]\u001b[0m\u001b[0;34m\u001b[0m\u001b[0;34m\u001b[0m\u001b[0m\n\u001b[1;32m    245\u001b[0m             \u001b[0mZ_pro\u001b[0m \u001b[0;34m=\u001b[0m \u001b[0mDataset\u001b[0m\u001b[0;34m(\u001b[0m\u001b[0;34m\"custom\"\u001b[0m\u001b[0;34m,\u001b[0m \u001b[0mZ_trajs\u001b[0m\u001b[0;34m,\u001b[0m \u001b[0mlabels\u001b[0m\u001b[0;34m)\u001b[0m\u001b[0;34m\u001b[0m\u001b[0;34m\u001b[0m\u001b[0m\n\u001b[0;32m--> 246\u001b[0;31m             \u001b[0mpreds\u001b[0m \u001b[0;34m=\u001b[0m \u001b[0mself\u001b[0m\u001b[0;34m.\u001b[0m\u001b[0mmodel\u001b[0m\u001b[0;34m.\u001b[0m\u001b[0mpredict\u001b[0m\u001b[0;34m(\u001b[0m\u001b[0mZ_pro\u001b[0m\u001b[0;34m)\u001b[0m\u001b[0;34m\u001b[0m\u001b[0;34m\u001b[0m\u001b[0m\n\u001b[0m\u001b[1;32m    247\u001b[0m             \u001b[0mpred_labels\u001b[0m \u001b[0;34m=\u001b[0m \u001b[0;34m[\u001b[0m\u001b[0mpred\u001b[0m\u001b[0;34m.\u001b[0m\u001b[0margmax\u001b[0m\u001b[0;34m(\u001b[0m\u001b[0;34m)\u001b[0m \u001b[0;32mfor\u001b[0m \u001b[0mpred\u001b[0m \u001b[0;32min\u001b[0m \u001b[0mpreds\u001b[0m\u001b[0;34m]\u001b[0m\u001b[0;34m\u001b[0m\u001b[0;34m\u001b[0m\u001b[0m\n\u001b[1;32m    248\u001b[0m             \u001b[0mY\u001b[0m \u001b[0;34m=\u001b[0m \u001b[0mself\u001b[0m\u001b[0;34m.\u001b[0m\u001b[0mmodel\u001b[0m\u001b[0;34m.\u001b[0m\u001b[0mencoder\u001b[0m\u001b[0;34m.\u001b[0m\u001b[0minverse_transform\u001b[0m\u001b[0;34m(\u001b[0m\u001b[0mpred_labels\u001b[0m\u001b[0;34m)\u001b[0m\u001b[0;34m\u001b[0m\u001b[0;34m\u001b[0m\u001b[0m\n",
      "\u001b[0;32m/usr/local/lib/python3.11/dist-packages/pactus/models/lstm_model.py\u001b[0m in \u001b[0;36mpredict\u001b[0;34m(self, data)\u001b[0m\n\u001b[1;32m    158\u001b[0m     \u001b[0;32mdef\u001b[0m \u001b[0mpredict\u001b[0m\u001b[0;34m(\u001b[0m\u001b[0mself\u001b[0m\u001b[0;34m,\u001b[0m \u001b[0mdata\u001b[0m\u001b[0;34m:\u001b[0m \u001b[0mData\u001b[0m\u001b[0;34m)\u001b[0m \u001b[0;34m->\u001b[0m \u001b[0mList\u001b[0m\u001b[0;34m[\u001b[0m\u001b[0mAny\u001b[0m\u001b[0;34m]\u001b[0m\u001b[0;34m:\u001b[0m\u001b[0;34m\u001b[0m\u001b[0;34m\u001b[0m\u001b[0m\n\u001b[1;32m    159\u001b[0m         \u001b[0mx_data\u001b[0m \u001b[0;34m=\u001b[0m \u001b[0mself\u001b[0m\u001b[0;34m.\u001b[0m\u001b[0m_get_x_data\u001b[0m\u001b[0;34m(\u001b[0m\u001b[0mself\u001b[0m\u001b[0;34m.\u001b[0m\u001b[0mmax_len\u001b[0m\u001b[0;34m,\u001b[0m \u001b[0mdata\u001b[0m\u001b[0;34m.\u001b[0m\u001b[0mtrajs\u001b[0m\u001b[0;34m)\u001b[0m\u001b[0;34m\u001b[0m\u001b[0;34m\u001b[0m\u001b[0m\n\u001b[0;32m--> 160\u001b[0;31m         \u001b[0;32mreturn\u001b[0m \u001b[0mself\u001b[0m\u001b[0;34m.\u001b[0m\u001b[0mmodel\u001b[0m\u001b[0;34m.\u001b[0m\u001b[0mpredict\u001b[0m\u001b[0;34m(\u001b[0m\u001b[0mx_data\u001b[0m\u001b[0;34m)\u001b[0m\u001b[0;34m\u001b[0m\u001b[0;34m\u001b[0m\u001b[0m\n\u001b[0m\u001b[1;32m    161\u001b[0m \u001b[0;34m\u001b[0m\u001b[0m\n\u001b[1;32m    162\u001b[0m     \u001b[0;32mdef\u001b[0m \u001b[0mevaluate\u001b[0m\u001b[0;34m(\u001b[0m\u001b[0mself\u001b[0m\u001b[0;34m,\u001b[0m \u001b[0mdata\u001b[0m\u001b[0;34m:\u001b[0m \u001b[0mData\u001b[0m\u001b[0;34m)\u001b[0m \u001b[0;34m->\u001b[0m \u001b[0mEvaluation\u001b[0m\u001b[0;34m:\u001b[0m\u001b[0;34m\u001b[0m\u001b[0;34m\u001b[0m\u001b[0m\n",
      "\u001b[0;32m/usr/local/lib/python3.11/dist-packages/keras/src/utils/traceback_utils.py\u001b[0m in \u001b[0;36merror_handler\u001b[0;34m(*args, **kwargs)\u001b[0m\n\u001b[1;32m    115\u001b[0m         \u001b[0mfiltered_tb\u001b[0m \u001b[0;34m=\u001b[0m \u001b[0;32mNone\u001b[0m\u001b[0;34m\u001b[0m\u001b[0;34m\u001b[0m\u001b[0m\n\u001b[1;32m    116\u001b[0m         \u001b[0;32mtry\u001b[0m\u001b[0;34m:\u001b[0m\u001b[0;34m\u001b[0m\u001b[0;34m\u001b[0m\u001b[0m\n\u001b[0;32m--> 117\u001b[0;31m             \u001b[0;32mreturn\u001b[0m \u001b[0mfn\u001b[0m\u001b[0;34m(\u001b[0m\u001b[0;34m*\u001b[0m\u001b[0margs\u001b[0m\u001b[0;34m,\u001b[0m \u001b[0;34m**\u001b[0m\u001b[0mkwargs\u001b[0m\u001b[0;34m)\u001b[0m\u001b[0;34m\u001b[0m\u001b[0;34m\u001b[0m\u001b[0m\n\u001b[0m\u001b[1;32m    118\u001b[0m         \u001b[0;32mexcept\u001b[0m \u001b[0mException\u001b[0m \u001b[0;32mas\u001b[0m \u001b[0me\u001b[0m\u001b[0;34m:\u001b[0m\u001b[0;34m\u001b[0m\u001b[0;34m\u001b[0m\u001b[0m\n\u001b[1;32m    119\u001b[0m             \u001b[0mfiltered_tb\u001b[0m \u001b[0;34m=\u001b[0m \u001b[0m_process_traceback_frames\u001b[0m\u001b[0;34m(\u001b[0m\u001b[0me\u001b[0m\u001b[0;34m.\u001b[0m\u001b[0m__traceback__\u001b[0m\u001b[0;34m)\u001b[0m\u001b[0;34m\u001b[0m\u001b[0;34m\u001b[0m\u001b[0m\n",
      "\u001b[0;31mKeyboardInterrupt\u001b[0m: "
     ]
    }
   ],
   "source": [
    "# segment_func = [rdp_segmentation]\n",
    "# perturbation_func = [gaussian_perturbation]\n",
    "segment_func = [rdp_segmentation, mdl_segmentation, sliding_window_segmentation]\n",
    "perturbation_func = [gaussian_perturbation, scaling_perturbation, rotation_perturbation]\n",
    "\n",
    "run_experiments(\n",
    "    dataset,\n",
    "    segment_func,\n",
    "    perturbation_func,\n",
    "    model,\n",
    ")"
   ]
  }
 ],
 "metadata": {
  "colab": {
   "collapsed_sections": [
    "Nc27EiTxJBFH"
   ],
   "provenance": []
  },
  "kaggle": {
   "accelerator": "none",
   "dataSources": [],
   "dockerImageVersionId": 30839,
   "isGpuEnabled": false,
   "isInternetEnabled": true,
   "language": "python",
   "sourceType": "notebook"
  },
  "kernelspec": {
   "display_name": "Python 3",
   "language": "python",
   "name": "python3"
  },
  "language_info": {
   "codemirror_mode": {
    "name": "ipython",
    "version": 3
   },
   "file_extension": ".py",
   "mimetype": "text/x-python",
   "name": "python",
   "nbconvert_exporter": "python",
   "pygments_lexer": "ipython3",
   "version": "3.10.12"
  },
  "papermill": {
   "default_parameters": {},
   "duration": 457.886962,
   "end_time": "2025-03-02T14:43:51.402590",
   "environment_variables": {},
   "exception": null,
   "input_path": "__notebook__.ipynb",
   "output_path": "__notebook__.ipynb",
   "parameters": {},
   "start_time": "2025-03-02T14:36:13.515628",
   "version": "2.6.0"
  }
 },
 "nbformat": 4,
 "nbformat_minor": 5
}
