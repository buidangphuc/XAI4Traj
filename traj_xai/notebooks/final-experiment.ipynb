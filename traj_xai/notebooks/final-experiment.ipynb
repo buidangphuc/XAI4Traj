{
 "cells": [
  {
   "cell_type": "code",
   "execution_count": null,
   "id": "63d0530e",
   "metadata": {},
   "outputs": [],
   "source": [
    "import os\n",
    "import sys\n",
    "\n",
    "sys.path.append(os.path.abspath(os.path.join(os.getcwd(), \"../..\")))"
   ]
  },
  {
   "cell_type": "code",
   "execution_count": null,
   "id": "d7213428",
   "metadata": {},
   "outputs": [],
   "source": [
    "from traj_xai.src import SimpleTransformerModel, TrajFormerModel"
   ]
  },
  {
   "cell_type": "code",
   "execution_count": null,
   "id": "1cb8beb4",
   "metadata": {},
   "outputs": [],
   "source": [
    "from pactus import Dataset"
   ]
  },
  {
   "cell_type": "markdown",
   "id": "8651f520",
   "metadata": {
    "id": "8651f520",
    "papermill": {
     "duration": 0.004132,
     "end_time": "2025-03-02T14:37:06.587931",
     "exception": false,
     "start_time": "2025-03-02T14:37:06.583799",
     "status": "completed"
    },
    "tags": []
   },
   "source": [
    "## Segmentation\n"
   ]
  },
  {
   "cell_type": "code",
   "execution_count": null,
   "id": "d5ec6e6e",
   "metadata": {
    "executionInfo": {
     "elapsed": 13,
     "status": "ok",
     "timestamp": 1744362428712,
     "user": {
      "displayName": "Phúc Bùi Đăng",
      "userId": "10070853033529104099"
     },
     "user_tz": -420
    },
    "id": "d5ec6e6e"
   },
   "outputs": [],
   "source": [
    "from traj_xai.src import (\n",
    "    mdl_segmentation,\n",
    "    rdp_segmentation,\n",
    "    sliding_window_segmentation,\n",
    ")"
   ]
  },
  {
   "cell_type": "markdown",
   "id": "a9427987",
   "metadata": {
    "id": "a9427987",
    "papermill": {
     "duration": 0.004186,
     "end_time": "2025-03-02T14:37:06.619941",
     "exception": false,
     "start_time": "2025-03-02T14:37:06.615755",
     "status": "completed"
    },
    "tags": []
   },
   "source": [
    "## Pertubation\n"
   ]
  },
  {
   "cell_type": "code",
   "execution_count": null,
   "id": "954ef1ec",
   "metadata": {
    "executionInfo": {
     "elapsed": 13,
     "status": "ok",
     "timestamp": 1744362428726,
     "user": {
      "displayName": "Phúc Bùi Đăng",
      "userId": "10070853033529104099"
     },
     "user_tz": -420
    },
    "id": "954ef1ec"
   },
   "outputs": [],
   "source": [
    "from traj_xai.src import (\n",
    "    gaussian_perturbation,\n",
    "    scaling_perturbation,\n",
    "    rotation_perturbation,\n",
    ")"
   ]
  },
  {
   "cell_type": "markdown",
   "id": "8ae7c104",
   "metadata": {
    "id": "8ae7c104",
    "papermill": {
     "duration": 0.004205,
     "end_time": "2025-03-02T14:37:06.689386",
     "exception": false,
     "start_time": "2025-03-02T14:37:06.685181",
     "status": "completed"
    },
    "tags": []
   },
   "source": [
    "## Evaluation\n"
   ]
  },
  {
   "cell_type": "markdown",
   "id": "62e342e5",
   "metadata": {
    "id": "62e342e5",
    "papermill": {
     "duration": 0.004005,
     "end_time": "2025-03-02T14:37:06.725210",
     "exception": false,
     "start_time": "2025-03-02T14:37:06.721205",
     "status": "completed"
    },
    "tags": []
   },
   "source": [
    "## Experiment with all trajectories\n"
   ]
  },
  {
   "cell_type": "code",
   "execution_count": null,
   "id": "7b7070c7",
   "metadata": {},
   "outputs": [],
   "source": [
    "# LSTM Model\n",
    "SEED = 0\n",
    "\n",
    "# datasets = [\n",
    "#     # Dataset.geolife(),\n",
    "#     Dataset.animals(), x\n",
    "#     # Dataset.hurdat2(), x\n",
    "#     Dataset.uci_characters(), x\n",
    "#     Dataset.cma_bst(), x\n",
    "#     # Dataset.mnist_stroke(), 1k x\n",
    "#     # Dataset.uci_pen_digits(), x\n",
    "#     # Dataset.uci_gotrack(), x\n",
    "#     Dataset.uci_movement_libras(),\n",
    "# ]\n",
    "# train, test = dataset.mnist_stroke(.8, random_state=SEED)\n",
    "\n",
    "# Load dataset\n",
    "dataset = Dataset.uci_movement_libras()\n",
    "\n",
    "# Split data into train and test subsets\n",
    "train, test = dataset.split(0.8, random_state=SEED)\n",
    "# train, test = dataset.cut(69000)"
   ]
  },
  {
   "cell_type": "code",
   "execution_count": null,
   "id": "7da1b906",
   "metadata": {},
   "outputs": [],
   "source": [
    "# train.classes"
   ]
  },
  {
   "cell_type": "markdown",
   "id": "5c182982",
   "metadata": {
    "id": "5c182982"
   },
   "source": [
    "### DL Model\n"
   ]
  },
  {
   "cell_type": "code",
   "execution_count": null,
   "id": "6e2ab0a9",
   "metadata": {
    "colab": {
     "base_uri": "https://localhost:8080/"
    },
    "execution": {
     "iopub.execute_input": "2025-03-02T14:37:06.735052Z",
     "iopub.status.busy": "2025-03-02T14:37:06.734661Z",
     "iopub.status.idle": "2025-03-02T14:37:21.839785Z",
     "shell.execute_reply": "2025-03-02T14:37:21.838346Z"
    },
    "executionInfo": {
     "elapsed": 31244,
     "status": "ok",
     "timestamp": 1744362460003,
     "user": {
      "displayName": "Phúc Bùi Đăng",
      "userId": "10070853033529104099"
     },
     "user_tz": -420
    },
    "id": "6e2ab0a9",
    "outputId": "0f739009-5691-4414-bca8-25bdbdf762c4",
    "papermill": {
     "duration": 15.111728,
     "end_time": "2025-03-02T14:37:21.841158",
     "exception": false,
     "start_time": "2025-03-02T14:37:06.729430",
     "status": "completed"
    },
    "tags": []
   },
   "outputs": [],
   "source": [
    "max_length = 1000\n",
    "embedding_size = 64\n",
    "\n",
    "# Build and train the model\n",
    "model = SimpleTransformerModel()\n",
    "\n",
    "# Train the model on the train dataset\n",
    "model.train(train, dataset, epochs=20, batch_size=64)\n",
    "\n",
    "# Evaluate the model on a test dataset\n",
    "evaluation = model.evaluate(test)\n",
    "\n",
    "# Print the evaluation\n",
    "evaluation.show()"
   ]
  },
  {
   "cell_type": "markdown",
   "id": "43e3ad2d",
   "metadata": {
    "id": "43e3ad2d"
   },
   "source": [
    "### ML Model\n"
   ]
  },
  {
   "cell_type": "code",
   "execution_count": null,
   "id": "e78bc70e",
   "metadata": {
    "execution": {
     "iopub.execute_input": "2025-03-02T14:37:21.857621Z",
     "iopub.status.busy": "2025-03-02T14:37:21.857367Z",
     "iopub.status.idle": "2025-03-02T14:37:21.861971Z",
     "shell.execute_reply": "2025-03-02T14:37:21.860266Z"
    },
    "executionInfo": {
     "elapsed": 10,
     "status": "ok",
     "timestamp": 1744362460015,
     "user": {
      "displayName": "Phúc Bùi Đăng",
      "userId": "10070853033529104099"
     },
     "user_tz": -420
    },
    "id": "e78bc70e",
    "papermill": {
     "duration": 0.014616,
     "end_time": "2025-03-02T14:37:21.863966",
     "exception": false,
     "start_time": "2025-03-02T14:37:21.849350",
     "status": "completed"
    },
    "tags": []
   },
   "outputs": [],
   "source": [
    "# # ML Model\n",
    "# SEED = 0\n",
    "\n",
    "# # datasets = [\n",
    "# #     # Dataset.geolife(),\n",
    "# #     Dataset.animals(),\n",
    "# #     # Dataset.hurdat2(), -> RF cant work\n",
    "# #     Dataset.cma_bst(),\n",
    "# #     # Dataset.mnist_stroke(), -> okay\n",
    "# #     # Dataset.uci_pen_digits(),\n",
    "# #     # Dataset.uci_gotrack(),\n",
    "# #     Dataset.uci_characters(),\n",
    "# #     Dataset.uci_movement_libras(),-> okay\n",
    "# # ]\n",
    "\n",
    "# # Load dataset\n",
    "# dataset = Dataset.geolife()\n",
    "\n",
    "# # Split data into train and test subsets\n",
    "# # train, test = dataset.split(.995, random_state=SEED)\n",
    "\n",
    "# train, test = dataset.filter(\n",
    "#         lambda traj, label: len(traj) >= 5\n",
    "#         and traj.r.delta.norm.sum() > 0\n",
    "#         and dataset.label_counts[label] > 5\n",
    "#     ).split(\n",
    "#         train_size=0.985,\n",
    "#         random_state=SEED,\n",
    "#     )\n",
    "\n",
    "# # Build and train the model\n",
    "# featurizer = featurizers.UniversalFeaturizer()\n",
    "# model = XGBoostModel(featurizer=featurizer)\n",
    "# # model = SVMModel(\n",
    "# #     featurizer=featurizer,\n",
    "# #     random_state=SEED,\n",
    "# # )\n",
    "# # DecisionTreeModel(\n",
    "# #     featurizer=featurizer,\n",
    "# #     max_depth=7,\n",
    "# #     random_state=SEED,\n",
    "# # # )\n",
    "\n",
    "\n",
    "# # Train the model on the train dataset\n",
    "# model.train(train, 5) # 5: CV\n",
    "\n",
    "# # Evaluate the model on a test dataset\n",
    "# evaluation = model.evaluate(test)\n",
    "\n",
    "# # Print the evaluation\n",
    "# evaluation.show()"
   ]
  },
  {
   "cell_type": "markdown",
   "id": "6e327aad",
   "metadata": {
    "id": "6e327aad"
   },
   "source": [
    "### Experiment\n"
   ]
  },
  {
   "cell_type": "code",
   "execution_count": null,
   "id": "027001b6",
   "metadata": {
    "executionInfo": {
     "elapsed": 1,
     "status": "ok",
     "timestamp": 1744362460022,
     "user": {
      "displayName": "Phúc Bùi Đăng",
      "userId": "10070853033529104099"
     },
     "user_tz": -420
    },
    "id": "027001b6"
   },
   "outputs": [],
   "source": [
    "from traj_xai.src import run_experiments"
   ]
  },
  {
   "cell_type": "code",
   "execution_count": null,
   "id": "e1b7307f",
   "metadata": {
    "colab": {
     "base_uri": "https://localhost:8080/",
     "height": 686
    },
    "execution": {
     "iopub.execute_input": "2025-03-02T14:37:21.911649Z",
     "iopub.status.busy": "2025-03-02T14:37:21.911349Z",
     "iopub.status.idle": "2025-03-02T14:43:48.090934Z",
     "shell.execute_reply": "2025-03-02T14:43:48.089802Z"
    },
    "executionInfo": {
     "elapsed": 26911,
     "status": "error",
     "timestamp": 1744362521419,
     "user": {
      "displayName": "Phúc Bùi Đăng",
      "userId": "10070853033529104099"
     },
     "user_tz": -420
    },
    "id": "e1b7307f",
    "outputId": "90b1b2c2-f306-472c-c7d0-7f2672735ad7",
    "papermill": {
     "duration": 386.19023,
     "end_time": "2025-03-02T14:43:48.092429",
     "exception": false,
     "start_time": "2025-03-02T14:37:21.902199",
     "status": "completed"
    },
    "tags": []
   },
   "outputs": [],
   "source": [
    "# segment_func = [rdp_segmentation]\n",
    "# perturbation_func = [gaussian_perturbation]\n",
    "segment_func = [rdp_segmentation, sliding_window_segmentation, mdl_segmentation]\n",
    "perturbation_func = [scaling_perturbation, rotation_perturbation, gaussian_perturbation]\n",
    "\n",
    "run_experiments(\n",
    "    test,\n",
    "    segment_func,\n",
    "    perturbation_func,\n",
    "    model,\n",
    ")"
   ]
  }
 ],
 "metadata": {
  "colab": {
   "collapsed_sections": [
    "Nc27EiTxJBFH"
   ],
   "provenance": []
  },
  "kaggle": {
   "accelerator": "none",
   "dataSources": [],
   "dockerImageVersionId": 30839,
   "isGpuEnabled": false,
   "isInternetEnabled": true,
   "language": "python",
   "sourceType": "notebook"
  },
  "kernelspec": {
   "display_name": "traj_xai",
   "language": "python",
   "name": "python3"
  },
  "language_info": {
   "codemirror_mode": {
    "name": "ipython",
    "version": 3
   },
   "file_extension": ".py",
   "mimetype": "text/x-python",
   "name": "python",
   "nbconvert_exporter": "python",
   "pygments_lexer": "ipython3",
   "version": "3.10.18"
  },
  "papermill": {
   "default_parameters": {},
   "duration": 457.886962,
   "end_time": "2025-03-02T14:43:51.402590",
   "environment_variables": {},
   "exception": null,
   "input_path": "__notebook__.ipynb",
   "output_path": "__notebook__.ipynb",
   "parameters": {},
   "start_time": "2025-03-02T14:36:13.515628",
   "version": "2.6.0"
  }
 },
 "nbformat": 4,
 "nbformat_minor": 5
}
