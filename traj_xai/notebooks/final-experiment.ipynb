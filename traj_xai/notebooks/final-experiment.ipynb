{
 "cells": [
  {
   "cell_type": "code",
   "execution_count": 1,
   "id": "63d0530e",
   "metadata": {},
   "outputs": [],
   "source": [
    "import os\n",
    "import sys\n",
    "\n",
    "sys.path.append(os.path.abspath(os.path.join(os.getcwd(), \"../..\")))"
   ]
  },
  {
   "cell_type": "code",
   "execution_count": 2,
   "id": "d7213428",
   "metadata": {},
   "outputs": [
    {
     "name": "stderr",
     "output_type": "stream",
     "text": [
      "/opt/homebrew/anaconda3/envs/traj_xai/lib/python3.10/site-packages/requests/__init__.py:86: RequestsDependencyWarning: Unable to find acceptable character detection dependency (chardet or charset_normalizer).\n",
      "  warnings.warn(\n",
      "/opt/homebrew/anaconda3/envs/traj_xai/lib/python3.10/site-packages/tqdm/auto.py:21: TqdmWarning: IProgress not found. Please update jupyter and ipywidgets. See https://ipywidgets.readthedocs.io/en/stable/user_install.html\n",
      "  from .autonotebook import tqdm as notebook_tqdm\n",
      "/opt/homebrew/anaconda3/envs/traj_xai/lib/python3.10/site-packages/timm/models/layers/__init__.py:48: FutureWarning: Importing from timm.models.layers is deprecated, please import via timm.layers\n",
      "  warnings.warn(f\"Importing from {__name__} is deprecated, please import via timm.layers\", FutureWarning)\n"
     ]
    }
   ],
   "source": [
    "from traj_xai.src import SimpleTransformerModel, TrajFormerModel"
   ]
  },
  {
   "cell_type": "code",
   "execution_count": 3,
   "id": "1cb8beb4",
   "metadata": {},
   "outputs": [],
   "source": [
    "from pactus import Dataset"
   ]
  },
  {
   "cell_type": "markdown",
   "id": "8651f520",
   "metadata": {
    "id": "8651f520",
    "papermill": {
     "duration": 0.004132,
     "end_time": "2025-03-02T14:37:06.587931",
     "exception": false,
     "start_time": "2025-03-02T14:37:06.583799",
     "status": "completed"
    },
    "tags": []
   },
   "source": [
    "## Segmentation\n"
   ]
  },
  {
   "cell_type": "code",
   "execution_count": 4,
   "id": "d5ec6e6e",
   "metadata": {
    "executionInfo": {
     "elapsed": 13,
     "status": "ok",
     "timestamp": 1744362428712,
     "user": {
      "displayName": "Phúc Bùi Đăng",
      "userId": "10070853033529104099"
     },
     "user_tz": -420
    },
    "id": "d5ec6e6e"
   },
   "outputs": [],
   "source": [
    "from traj_xai.src import (\n",
    "    mdl_segmentation,\n",
    "    rdp_segmentation,\n",
    "    sliding_window_segmentation,\n",
    ")"
   ]
  },
  {
   "cell_type": "markdown",
   "id": "a9427987",
   "metadata": {
    "id": "a9427987",
    "papermill": {
     "duration": 0.004186,
     "end_time": "2025-03-02T14:37:06.619941",
     "exception": false,
     "start_time": "2025-03-02T14:37:06.615755",
     "status": "completed"
    },
    "tags": []
   },
   "source": [
    "## Pertubation\n"
   ]
  },
  {
   "cell_type": "code",
   "execution_count": 5,
   "id": "954ef1ec",
   "metadata": {
    "executionInfo": {
     "elapsed": 13,
     "status": "ok",
     "timestamp": 1744362428726,
     "user": {
      "displayName": "Phúc Bùi Đăng",
      "userId": "10070853033529104099"
     },
     "user_tz": -420
    },
    "id": "954ef1ec"
   },
   "outputs": [],
   "source": [
    "from traj_xai.src import (\n",
    "    gaussian_perturbation,\n",
    "    scaling_perturbation,\n",
    "    rotation_perturbation,\n",
    ")"
   ]
  },
  {
   "cell_type": "markdown",
   "id": "8ae7c104",
   "metadata": {
    "id": "8ae7c104",
    "papermill": {
     "duration": 0.004205,
     "end_time": "2025-03-02T14:37:06.689386",
     "exception": false,
     "start_time": "2025-03-02T14:37:06.685181",
     "status": "completed"
    },
    "tags": []
   },
   "source": [
    "## Evaluation\n"
   ]
  },
  {
   "cell_type": "markdown",
   "id": "62e342e5",
   "metadata": {
    "id": "62e342e5",
    "papermill": {
     "duration": 0.004005,
     "end_time": "2025-03-02T14:37:06.725210",
     "exception": false,
     "start_time": "2025-03-02T14:37:06.721205",
     "status": "completed"
    },
    "tags": []
   },
   "source": [
    "## Experiment with all trajectories\n"
   ]
  },
  {
   "cell_type": "code",
   "execution_count": null,
   "id": "7b7070c7",
   "metadata": {},
   "outputs": [],
   "source": [
    "# LSTM Model\n",
    "SEED = 0\n",
    "\n",
    "# datasets = [\n",
    "#     # Dataset.geolife(),\n",
    "#     Dataset.animals(), x\n",
    "#     # Dataset.hurdat2(), x\n",
    "#     Dataset.uci_characters(), x\n",
    "#     Dataset.cma_bst(), x\n",
    "#     # Dataset.mnist_stroke(), 1k x\n",
    "#     # Dataset.uci_pen_digits(), x\n",
    "#     # Dataset.uci_gotrack(), x\n",
    "#     Dataset.uci_movement_libras(),\n",
    "# ]\n",
    "# train, test = dataset.mnist_stroke(.8, random_state=SEED)\n",
    "\n",
    "# Load dataset\n",
    "dataset = Dataset.geolife()\n",
    "\n",
    "# Split data into train and test subsets\n",
    "train, test = dataset.split(0.98, random_state=SEED)\n",
    "# train, test = dataset.cut(69000)"
   ]
  },
  {
   "cell_type": "code",
   "execution_count": 12,
   "id": "863d9180",
   "metadata": {},
   "outputs": [
    {
     "data": {
      "text/plain": [
       "Vector([[-61.8,  26.7],\n",
       "        [-62. ,  27.3],\n",
       "        [-62. ,  27.9],\n",
       "        [-61.7,  28.5],\n",
       "        [-61.1,  29.3],\n",
       "        [-60.2,  30.2],\n",
       "        [-59. ,  31.5],\n",
       "        [-57.4,  33.3],\n",
       "        [-55.2,  35.6],\n",
       "        [-52.5,  37.8],\n",
       "        [-49.4,  39.8],\n",
       "        [-46.5,  42.5],\n",
       "        [-42. ,  46. ]])"
      ]
     },
     "execution_count": 12,
     "metadata": {},
     "output_type": "execute_result"
    }
   ],
   "source": [
    "train.trajs[0].r"
   ]
  },
  {
   "cell_type": "code",
   "execution_count": null,
   "id": "7da1b906",
   "metadata": {},
   "outputs": [],
   "source": [
    "# train.classes"
   ]
  },
  {
   "cell_type": "markdown",
   "id": "5c182982",
   "metadata": {
    "id": "5c182982"
   },
   "source": [
    "### DL Model\n"
   ]
  },
  {
   "cell_type": "code",
   "execution_count": null,
   "id": "6e2ab0a9",
   "metadata": {
    "colab": {
     "base_uri": "https://localhost:8080/"
    },
    "execution": {
     "iopub.execute_input": "2025-03-02T14:37:06.735052Z",
     "iopub.status.busy": "2025-03-02T14:37:06.734661Z",
     "iopub.status.idle": "2025-03-02T14:37:21.839785Z",
     "shell.execute_reply": "2025-03-02T14:37:21.838346Z"
    },
    "executionInfo": {
     "elapsed": 31244,
     "status": "ok",
     "timestamp": 1744362460003,
     "user": {
      "displayName": "Phúc Bùi Đăng",
      "userId": "10070853033529104099"
     },
     "user_tz": -420
    },
    "id": "6e2ab0a9",
    "outputId": "0f739009-5691-4414-bca8-25bdbdf762c4",
    "papermill": {
     "duration": 15.111728,
     "end_time": "2025-03-02T14:37:21.841158",
     "exception": false,
     "start_time": "2025-03-02T14:37:06.729430",
     "status": "completed"
    },
    "tags": []
   },
   "outputs": [
    {
     "name": "stderr",
     "output_type": "stream",
     "text": [
      "20:56:56 [INFO] Epoch 10/10, Loss: 35.6540\n",
      "20:56:56 [INFO] Trained TrajFormer model with 1864 samples\n"
     ]
    },
    {
     "name": "stdout",
     "output_type": "stream",
     "text": [
      "\n",
      "General statistics:\n",
      "\n",
      "Accuracy: 0.564\n",
      "F1-score: 0.299\n",
      "Mean precision: 0.309\n",
      "Mean recall: 0.311\n",
      "\n",
      "Confusion matrix:\n",
      "\n",
      "0      1      2      3      4      5      precision\n",
      "=================================================\n",
      "94.74  75.0   40.0   33.33  33.33  100.0  62.07  \n",
      "5.26   25.0   20.0   33.33  0.0    0.0    40.0   \n",
      "0.0    0.0    0.0    0.0    0.0    0.0    0.0    \n",
      "0.0    0.0    0.0    33.33  33.33  0.0    50.0   \n",
      "0.0    0.0    40.0   0.0    33.33  0.0    33.33  \n",
      "0.0    0.0    0.0    0.0    0.0    0.0    0.0    \n",
      "-------------------------------------------------\n",
      "94.74  25.0   0.0    33.33  33.33  0.0    \n"
     ]
    }
   ],
   "source": [
    "max_length = 1000\n",
    "embedding_size = 64\n",
    "\n",
    "# Build and train the model\n",
    "model = TrajFormerModel(\n",
    "    c_out=len(dataset.classes),\n",
    ")\n",
    "\n",
    "# Train the model on the train dataset\n",
    "model.train(train, dataset, epochs=10, batch_size=64)\n",
    "\n",
    "# Evaluate the model on a test dataset\n",
    "evaluation = model.evaluate(test)\n",
    "\n",
    "# Print the evaluation\n",
    "evaluation.show()"
   ]
  },
  {
   "cell_type": "markdown",
   "id": "43e3ad2d",
   "metadata": {
    "id": "43e3ad2d"
   },
   "source": [
    "### ML Model\n"
   ]
  },
  {
   "cell_type": "code",
   "execution_count": null,
   "id": "e78bc70e",
   "metadata": {
    "execution": {
     "iopub.execute_input": "2025-03-02T14:37:21.857621Z",
     "iopub.status.busy": "2025-03-02T14:37:21.857367Z",
     "iopub.status.idle": "2025-03-02T14:37:21.861971Z",
     "shell.execute_reply": "2025-03-02T14:37:21.860266Z"
    },
    "executionInfo": {
     "elapsed": 10,
     "status": "ok",
     "timestamp": 1744362460015,
     "user": {
      "displayName": "Phúc Bùi Đăng",
      "userId": "10070853033529104099"
     },
     "user_tz": -420
    },
    "id": "e78bc70e",
    "papermill": {
     "duration": 0.014616,
     "end_time": "2025-03-02T14:37:21.863966",
     "exception": false,
     "start_time": "2025-03-02T14:37:21.849350",
     "status": "completed"
    },
    "tags": []
   },
   "outputs": [],
   "source": [
    "# # ML Model\n",
    "# SEED = 0\n",
    "\n",
    "# # datasets = [\n",
    "# #     # Dataset.geolife(),\n",
    "# #     Dataset.animals(),\n",
    "# #     # Dataset.hurdat2(), -> RF cant work\n",
    "# #     Dataset.cma_bst(),\n",
    "# #     # Dataset.mnist_stroke(), -> okay\n",
    "# #     # Dataset.uci_pen_digits(),\n",
    "# #     # Dataset.uci_gotrack(),\n",
    "# #     Dataset.uci_characters(),\n",
    "# #     Dataset.uci_movement_libras(),-> okay\n",
    "# # ]\n",
    "\n",
    "# # Load dataset\n",
    "# dataset = Dataset.geolife()\n",
    "\n",
    "# # Split data into train and test subsets\n",
    "# # train, test = dataset.split(.995, random_state=SEED)\n",
    "\n",
    "# train, test = dataset.filter(\n",
    "#         lambda traj, label: len(traj) >= 5\n",
    "#         and traj.r.delta.norm.sum() > 0\n",
    "#         and dataset.label_counts[label] > 5\n",
    "#     ).split(\n",
    "#         train_size=0.985,\n",
    "#         random_state=SEED,\n",
    "#     )\n",
    "\n",
    "# # Build and train the model\n",
    "# featurizer = featurizers.UniversalFeaturizer()\n",
    "# model = XGBoostModel(featurizer=featurizer)\n",
    "# # model = SVMModel(\n",
    "# #     featurizer=featurizer,\n",
    "# #     random_state=SEED,\n",
    "# # )\n",
    "# # DecisionTreeModel(\n",
    "# #     featurizer=featurizer,\n",
    "# #     max_depth=7,\n",
    "# #     random_state=SEED,\n",
    "# # # )\n",
    "\n",
    "\n",
    "# # Train the model on the train dataset\n",
    "# model.train(train, 5) # 5: CV\n",
    "\n",
    "# # Evaluate the model on a test dataset\n",
    "# evaluation = model.evaluate(test)\n",
    "\n",
    "# # Print the evaluation\n",
    "# evaluation.show()"
   ]
  },
  {
   "cell_type": "markdown",
   "id": "6e327aad",
   "metadata": {
    "id": "6e327aad"
   },
   "source": [
    "### Experiment\n"
   ]
  },
  {
   "cell_type": "code",
   "execution_count": null,
   "id": "027001b6",
   "metadata": {
    "executionInfo": {
     "elapsed": 1,
     "status": "ok",
     "timestamp": 1744362460022,
     "user": {
      "displayName": "Phúc Bùi Đăng",
      "userId": "10070853033529104099"
     },
     "user_tz": -420
    },
    "id": "027001b6"
   },
   "outputs": [],
   "source": [
    "from traj_xai.src import run_experiments"
   ]
  },
  {
   "cell_type": "code",
   "execution_count": null,
   "id": "e1b7307f",
   "metadata": {
    "colab": {
     "base_uri": "https://localhost:8080/",
     "height": 686
    },
    "execution": {
     "iopub.execute_input": "2025-03-02T14:37:21.911649Z",
     "iopub.status.busy": "2025-03-02T14:37:21.911349Z",
     "iopub.status.idle": "2025-03-02T14:43:48.090934Z",
     "shell.execute_reply": "2025-03-02T14:43:48.089802Z"
    },
    "executionInfo": {
     "elapsed": 26911,
     "status": "error",
     "timestamp": 1744362521419,
     "user": {
      "displayName": "Phúc Bùi Đăng",
      "userId": "10070853033529104099"
     },
     "user_tz": -420
    },
    "id": "e1b7307f",
    "outputId": "90b1b2c2-f306-472c-c7d0-7f2672735ad7",
    "papermill": {
     "duration": 386.19023,
     "end_time": "2025-03-02T14:43:48.092429",
     "exception": false,
     "start_time": "2025-03-02T14:37:21.902199",
     "status": "completed"
    },
    "tags": []
   },
   "outputs": [],
   "source": [
    "# segment_func = [rdp_segmentation]\n",
    "# perturbation_func = [gaussian_perturbation]\n",
    "segment_func = [sliding_window_segmentation]\n",
    "perturbation_func = [scaling_perturbation, rotation_perturbation, gaussian_perturbation]\n",
    "\n",
    "run_experiments(\n",
    "    test,\n",
    "    segment_func,\n",
    "    perturbation_func,\n",
    "    model,\n",
    ")"
   ]
  }
 ],
 "metadata": {
  "colab": {
   "collapsed_sections": [
    "Nc27EiTxJBFH"
   ],
   "provenance": []
  },
  "kaggle": {
   "accelerator": "none",
   "dataSources": [],
   "dockerImageVersionId": 30839,
   "isGpuEnabled": false,
   "isInternetEnabled": true,
   "language": "python",
   "sourceType": "notebook"
  },
  "kernelspec": {
   "display_name": "traj_xai",
   "language": "python",
   "name": "python3"
  },
  "language_info": {
   "codemirror_mode": {
    "name": "ipython",
    "version": 3
   },
   "file_extension": ".py",
   "mimetype": "text/x-python",
   "name": "python",
   "nbconvert_exporter": "python",
   "pygments_lexer": "ipython3",
   "version": "3.10.13"
  },
  "papermill": {
   "default_parameters": {},
   "duration": 457.886962,
   "end_time": "2025-03-02T14:43:51.402590",
   "environment_variables": {},
   "exception": null,
   "input_path": "__notebook__.ipynb",
   "output_path": "__notebook__.ipynb",
   "parameters": {},
   "start_time": "2025-03-02T14:36:13.515628",
   "version": "2.6.0"
  }
 },
 "nbformat": 4,
 "nbformat_minor": 5
}
